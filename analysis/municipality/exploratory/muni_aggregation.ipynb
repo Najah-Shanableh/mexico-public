{
 "metadata": {
  "name": "muni_aggregation"
 },
 "nbformat": 3,
 "nbformat_minor": 0,
 "worksheets": [
  {
   "cells": [
    {
     "cell_type": "markdown",
     "metadata": {},
     "source": [
      "## Municipality Aggregation\n",
      "This notebook uses a nearest neighbors algorithm in the space of census features to (deterministically) cluster municipalities such that each cluster has total population above a specified threshold.\n",
      "\n",
      "The purpose is to remove the high variance of mmrate among municipalities with small population before running a model (logistic regression here)."
     ]
    },
    {
     "cell_type": "code",
     "collapsed": false,
     "input": [
      "### Setup\n",
      "import os\n",
      "import psycopg2 as dbconnect\n",
      "import pandas as pd\n",
      "import matplotlib.pyplot as plt\n",
      "import statsmodels.formula.api as sm\n",
      "import numpy as np\n",
      "\n",
      "from sklearn import preprocessing\n",
      "from sklearn import linear_model\n",
      "from sklearn import svm\n",
      "from sklearn import cross_validation\n",
      "from sklearn import metrics\n",
      "from sklearn import neighbors\n",
      "\n",
      "from pylab import *\n",
      "rcParams['figure.figsize'] = 10, 10\n",
      "rcParams['font.size'] = 20"
     ],
     "language": "python",
     "metadata": {},
     "outputs": [],
     "prompt_number": 1
    },
    {
     "cell_type": "code",
     "collapsed": false,
     "input": [
      "db = dbconnect.connect(host='',\n",
      "                             database='mexico',\n",
      "                             user='',\n",
      "                             password='')"
     ],
     "language": "python",
     "metadata": {},
     "outputs": [],
     "prompt_number": 2
    },
    {
     "cell_type": "code",
     "collapsed": false,
     "input": [
      "data = pd.read_sql('SELECT cve_mun as municipality,\\\n",
      "            substring(cve_mun,1,2)::int as state,\\\n",
      "            st_x(st_transform(st_centroid(st_collect(geom)), 4326)) as longitude,\\\n",
      "            st_y(st_transform(st_centroid(st_collect(geom)), 4326)) as latitude,\\\n",
      "\t        sum(pob_tot) as pob_tot,\\\n",
      "\t        sum(vpha) as occupied_dwellings,\\\n",
      "\t        sum(ana_10*pob_tot)/sum(pob_tot) as no_read,\\\n",
      "\t        sum(snprim10*pob_tot)/sum(pob_tot) as no_ed,\\\n",
      "\t        sum(snexc10*pob_tot)/sum(pob_tot) as no_toilet,\\\n",
      "\t        sum(snee10*pob_tot)/sum(pob_tot) as no_electricity,\\\n",
      "\t        sum(sague10*pob_tot)/sum(pob_tot) as no_water,\\\n",
      "\t        sum(prom_oc10*pob_tot)/sum(pob_tot) as people_per_room,\\\n",
      "\t        sum(pisoter10*pob_tot)/sum(pob_tot) as dirt_floor,\\\n",
      "\t        sum(snref10*pob_tot)/sum(pob_tot) as no_fridge,\\\n",
      "\t        sum(im_2010*pob_tot)/sum(pob_tot) as margination,\\\n",
      "\t\tsum(((con_ubic=0)::int)*pob_tot) as urban_pop,\\\n",
      "\t\tsum(((con_ubic>0)::int)*pob_tot) as rural_pop,\\\n",
      "\t\tsum(((con_ubic=1)::int)*pob_tot) as rural1_pop,\\\n",
      "\t\tsum(((con_ubic=2)::int)*pob_tot) as rural2_pop,\\\n",
      "\t\tsum(((con_ubic=3)::int)*pob_tot) as rural3_pop,\\\n",
      "\t\tsum(((con_ubic=4)::int)*pob_tot) as rural4_pop,\\\n",
      "\t\tsum((con_ubic=0)::int) as urban_localities,\\\n",
      "\t\tsum((con_ubic>0)::int) as rural_localities,\\\n",
      "        count(*) as localities\\\n",
      "\tFROM localities\\\n",
      "\tGROUP BY municipality', db)"
     ],
     "language": "python",
     "metadata": {},
     "outputs": [],
     "prompt_number": 349
    },
    {
     "cell_type": "code",
     "collapsed": false,
     "input": [
      "m = data\n",
      "m['occupied_dwellings_isnull'] = data.occupied_dwellings.isnull().astype('int')\n",
      "m.fillna(-1, inplace=True)"
     ],
     "language": "python",
     "metadata": {},
     "outputs": [],
     "prompt_number": 350
    },
    {
     "cell_type": "code",
     "collapsed": false,
     "input": [
      "len(clusters)"
     ],
     "language": "python",
     "metadata": {},
     "outputs": [
      {
       "output_type": "pyout",
       "prompt_number": 33,
       "text": [
        "917"
       ]
      }
     ],
     "prompt_number": 33
    },
    {
     "cell_type": "code",
     "collapsed": false,
     "input": [
      "pob_min = 100000\n",
      "cluster_id = np.zeros(len(m))\n",
      "c = 0\n",
      "\n",
      "for i in range(len(m)):\n",
      "    if m.irow(i).pob_tot > pob_min:\n",
      "        c += 1\n",
      "        cluster_id[i] = c\n",
      "\n",
      "# build kdtree on scaled rest\n",
      "scaler = preprocessing.StandardScaler()\n",
      "m_small = m[m.pob_tot < pob_min]\n",
      "m_scaled = scaler.fit_transform(m_small)\n",
      "m_scaled[:,0] *= 1000\n",
      "kdt = neighbors.KDTree(m_scaled, leaf_size=30, metric='euclidean')\n",
      "\n",
      "# cluster them\n",
      "clustered = m.pob_tot >= pob_min\n",
      "for i in range(len(m_scaled)):\n",
      "    muni_id = m_small.irow(i).name\n",
      "    if not clustered[muni_id]:\n",
      "        n = kdt.query(m_scaled[i], k=1000, return_distance=False)[0]\n",
      "        pob = 0\n",
      "        c += 1\n",
      "        for j in n:\n",
      "            muni = m_small.irow(j)\n",
      "            if not clustered[muni.name]:\n",
      "                cluster_id[muni.name] = c\n",
      "                clustered[muni.name] = True\n",
      "                pob += muni.pob_tot\n",
      "                if pob >= pob_min:\n",
      "                    break"
     ],
     "language": "python",
     "metadata": {},
     "outputs": [],
     "prompt_number": 351
    },
    {
     "cell_type": "code",
     "collapsed": false,
     "input": [
      "m['cluster_id'] = cluster_id"
     ],
     "language": "python",
     "metadata": {},
     "outputs": [],
     "prompt_number": 352
    },
    {
     "cell_type": "code",
     "collapsed": false,
     "input": [
      "cluster_ids = m.set_index('municipality').cluster_id\n",
      "#m.reset_index(inplace=True)"
     ],
     "language": "python",
     "metadata": {},
     "outputs": [],
     "prompt_number": 353
    },
    {
     "cell_type": "code",
     "collapsed": false,
     "input": [
      "original_data = pd.read_sql(\"SELECT * FROM nick.municipality_model_data\", db)"
     ],
     "language": "python",
     "metadata": {},
     "outputs": [],
     "prompt_number": 285
    },
    {
     "cell_type": "code",
     "collapsed": false,
     "input": [
      "datasets_data = original_data[['municipality', 'pop_total', 'pob_tot']]\n",
      "subset_data = original_data[~datasets_data.isnull().any(axis=1)]\n",
      "subset_data = subset_data.set_index('municipality')"
     ],
     "language": "python",
     "metadata": {},
     "outputs": [],
     "prompt_number": 286
    },
    {
     "cell_type": "code",
     "collapsed": false,
     "input": [
      "subset_data.fillna(0, inplace=True)"
     ],
     "language": "python",
     "metadata": {},
     "outputs": [],
     "prompt_number": 287
    },
    {
     "cell_type": "code",
     "collapsed": false,
     "input": [
      "subset_data['cluster_id'] = cluster_ids"
     ],
     "language": "python",
     "metadata": {},
     "outputs": [],
     "prompt_number": 354
    },
    {
     "cell_type": "code",
     "collapsed": false,
     "input": [
      "grouped = subset_data.groupby('cluster_id')"
     ],
     "language": "python",
     "metadata": {},
     "outputs": [],
     "prompt_number": 355
    },
    {
     "cell_type": "code",
     "collapsed": false,
     "input": [
      "grouped_df = grouped.agg(['sum', 'mean'])"
     ],
     "language": "python",
     "metadata": {},
     "outputs": [],
     "prompt_number": 356
    },
    {
     "cell_type": "code",
     "collapsed": false,
     "input": [
      "grouped_df['mmrate'] = grouped_df.deaths['sum'] / grouped_df.pop_birth['sum'] /4*1000\n",
      "grouped_df['urban_mmrate'] = grouped_df.urban_deaths['sum'] / grouped_df.urban_pop_birth['sum'] /4*1000\n",
      "grouped_df['rural_mmrate'] = grouped_df.rural_deaths['sum'] / grouped_df.rural_pop_birth['sum'] /4*1000\n",
      "grouped_df['mmbinary'] = grouped_df.mmrate > (grouped_df.mmrate > np.percentile(grouped_df.mmrate, 50)).astype('int')\n",
      "grouped_df['urban_mmbinary'] = grouped_df.urban_mmrate > (grouped_df.urban_mmrate > np.percentile(grouped_df.urban_mmrate, 50)).astype('int')\n",
      "grouped_df['rural_mmbinary'] = grouped_df.rural_mmrate > (grouped_df.rural_mmrate > np.percentile(grouped_df.rural_mmrate, 50)).astype('int')"
     ],
     "language": "python",
     "metadata": {},
     "outputs": [],
     "prompt_number": 357
    },
    {
     "cell_type": "code",
     "collapsed": false,
     "input": [
      "for s in ['ssa', 'doctor', 'midwife', 'nurse', 'other', 'unspecified']:\n",
      "    grouped_df['pct_attended_birth_' + s] = grouped_df['attended_birth_' + s]['sum']/grouped_df.births['sum']\n",
      "\n",
      "for s in ['normal', 'cesarean', 'forceps', 'other', 'unspecified']:\n",
      "    grouped_df['pct_birth_procedure_' + s] = grouped_df['birth_procedure_' + s]['sum']/grouped_df.births['sum']\n",
      "    \n",
      "for s in ['ssa', 'opportunidades', 'imss', 'issste', 'other_gov_inst', 'other_private', 'public_place', 'household']:\n",
      "    grouped_df['pct_pob_' + s] = grouped_df['pob_' + s]['sum']/grouped_df.births['sum']"
     ],
     "language": "python",
     "metadata": {},
     "outputs": [],
     "prompt_number": 358
    },
    {
     "cell_type": "code",
     "collapsed": false,
     "input": [
      "mmbinary = grouped_df.mmbinary\n",
      "data = grouped_df.drop(['deaths', 'mmrate', 'mmbinary', \\\n",
      "    'urban_mmbinary','urban_mmrate', 'rural_mmrate', 'rural_mmbinary','urban_deaths', 'rural_deaths', \\\n",
      "    'urban_pop_fem', 'urban_pop', 'urban_pop_birth', 'pob_tot', 'pct_maternal_deaths'], axis=1)\n",
      "data = data.fillna(0)"
     ],
     "language": "python",
     "metadata": {},
     "outputs": [],
     "prompt_number": 319
    },
    {
     "cell_type": "code",
     "collapsed": false,
     "input": [
      "scaler = preprocessing.StandardScaler()\n",
      "scaled_data = scaler.fit_transform(data)\n",
      "scaled_data = pd.DataFrame(scaled_data)\n",
      "scaled_data.columns = data.columns\n",
      "scaled_data.index = data.index"
     ],
     "language": "python",
     "metadata": {},
     "outputs": [],
     "prompt_number": 320
    },
    {
     "cell_type": "code",
     "collapsed": false,
     "input": [
      "kf = cross_validation.KFold(n=len(grouped_df), n_folds=5, shuffle=True, random_state=None)\n",
      "models = []\n",
      "predictions = {}\n",
      "for train_index, test_index in kf:\n",
      "    print 'training'\n",
      "    m = {}\n",
      "    m['X_train'], m['X_test'] = scaled_data.irow(train_index), scaled_data.irow(test_index)\n",
      "    m['y_train'], m['y_test'] = mmbinary.irow(train_index), mmbinary.irow(test_index)\n",
      "    \n",
      "    m['model'] =  linear_model.LogisticRegression()#penalty='l1', C=1)\n",
      "    m['model'].fit(m['X_train'], m['y_train'])\n",
      "    \n",
      "    print 'testing'\n",
      "    m['predict'] = m['model'].predict(m['X_test'])\n",
      "    m['predict_proba'] = m['model'].predict_proba(m['X_test'])[:,1]\n",
      "    models.append(m)"
     ],
     "language": "python",
     "metadata": {},
     "outputs": [
      {
       "output_type": "stream",
       "stream": "stdout",
       "text": [
        "training\n",
        "testing\n",
        "training\n",
        "testing\n",
        "training\n",
        "testing\n",
        "training\n",
        "testing\n",
        "training\n",
        "testing"
       ]
      },
      {
       "output_type": "stream",
       "stream": "stdout",
       "text": [
        "\n"
       ]
      }
     ],
     "prompt_number": 321
    },
    {
     "cell_type": "code",
     "collapsed": false,
     "input": [
      "coef = pd.Series(models[0]['model'].coef_[0])\n",
      "coef.index = scaled_data.columns\n",
      "coef.sort()\n",
      "print(coef)"
     ],
     "language": "python",
     "metadata": {},
     "outputs": [
      {
       "output_type": "stream",
       "stream": "stdout",
       "text": [
        "pct_md_b_o00                mean   -0.568654\n",
        "                            sum    -0.508670\n",
        "pct_md_pregnancy            mean   -0.472662\n",
        "pct_md_b_o85                mean   -0.389310\n",
        "                            sum    -0.330209\n",
        "pob_other                   mean   -0.329041\n",
        "first_prenatal_tri_2        sum    -0.311177\n",
        "pct_md_pregnancy            sum    -0.298062\n",
        "pob_other                   sum    -0.294644\n",
        "pct_birth_procedure_normal         -0.280280\n",
        "pct_issste_insured          mean   -0.274603\n",
        "salud4_r                    mean   -0.274603\n",
        "pct_no_contraceptive        mean   -0.251195\n",
        "pob_other_gov_inst          mean   -0.248442\n",
        "edu11_r                     mean   -0.240491\n",
        "...\n",
        "hogar10_r                       mean    0.195982\n",
        "pct_hh_u30                      mean    0.195982\n",
        "family_physicians               sum     0.201064\n",
        "ultrasound_systems              sum     0.203882\n",
        "hogar12_r                       mean    0.207746\n",
        "attended_birth_unspecified      sum     0.207797\n",
        "newborn_beds                    sum     0.211616\n",
        "insurance_unspecified           sum     0.231205\n",
        "pct_attended_birth_unspecified          0.233659\n",
        "pct_contraceptive               mean    0.242832\n",
        "issste_institutions             sum     0.250594\n",
        "avg_prenatal_consults           mean    0.265607\n",
        "pct_birth_procedure_cesarean            0.292017\n",
        "rural2_pop                      sum     0.347653\n",
        "                                mean    0.550639\n",
        "Length: 797, dtype: float64\n"
       ]
      }
     ],
     "prompt_number": 322
    }
   ],
   "metadata": {}
  }
 ]
}