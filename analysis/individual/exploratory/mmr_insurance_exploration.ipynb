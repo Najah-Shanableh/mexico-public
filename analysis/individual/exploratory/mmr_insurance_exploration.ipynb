{
 "metadata": {
  "name": "",
  "signature": "sha256:1c3b67b2448e5044825449e157152e6b52d3894686bdac8998268ce82e7c267e"
 },
 "nbformat": 3,
 "nbformat_minor": 0,
 "worksheets": [
  {
   "cells": [
    {
     "cell_type": "markdown",
     "metadata": {},
     "source": [
      "#Exploring maternal mortality using insurance information\n",
      "##Data: \n",
      "Births Data\n",
      "Maternal Mortality Data"
     ]
    },
    {
     "cell_type": "markdown",
     "metadata": {},
     "source": [
      "##Insurance Institutes:\n",
      "####IMSS: \n",
      "Mexican Social Security Institute (for private section)\n",
      "####ISSSTE: \n",
      "Institute for Social Security and Services for State Workers (Government sector)\n",
      "####SEGURO POPULAR (Ministry of Health): \n",
      "National Commission for Social Protection in Health (For people who are not covered by social security)\n",
      "####NINGUNA: \n",
      "None\n",
      "####IMSS Oportunidades (Federal government support for IMSS to include the poor)\n",
      "The IMSS-Oportunidades Program's mission is to make IMSS services available for Mexicans who do not have social security and live in underserved rural and urban areas in extreme poverty.\n",
      "####OTRA\n",
      "Other (It could mean private insurance! (We need to ask))\n",
      "####PEMEX\n",
      "Petroleum  workers\n",
      "####SEDENA\n",
      "Army workers\n",
      "####SEMAR\n",
      "Navy workers"
     ]
    },
    {
     "cell_type": "code",
     "collapsed": false,
     "input": [
      "from pandas import *\n",
      "import matplotlib.pyplot as plt\n",
      "\n",
      "import psycopg2\n",
      "con = psycopg2.connect(host=\"\",database='mexico',user='',password='')"
     ],
     "language": "python",
     "metadata": {},
     "outputs": []
    },
    {
     "cell_type": "code",
     "collapsed": false,
     "input": [
      "mm_query = \"SELECT  mm.year,cat_ins.\\\"Descrip\\\" as insurance, count(*) as mm_count\\\n",
      "  FROM maternal_mortality.maternal_mortality as mm left join births_13.\\\"CATDEREC\\\" as cat_ins on mm.derech::int = cat_ins.\\\"LLAVEDER\\\"::int\\\n",
      "  group by mm.year,cat_ins.\\\"Descrip\\\" order by mm.year\"\n",
      "\n",
      "mm_data = read_sql( mm_query, con)\n",
      "\n",
      "\n",
      "print mm_data.head()\n",
      "mm_data.groupby('year')['mm_count'].sum()"
     ],
     "language": "python",
     "metadata": {},
     "outputs": []
    },
    {
     "cell_type": "code",
     "collapsed": false,
     "input": [
      "births_query = \"select table_year as year,count(*) as births, cat_ins.\\\"Descrip\\\" as insurance from births_data \\\n",
      "left join births_13.\\\"CATDEREC\\\" as cat_ins on mother_health_affiliation::int = cat_ins.\\\"LLAVEDER\\\"::int \\\n",
      "group by year,cat_ins.\\\"Descrip\\\"\"\n",
      "\n",
      "births = read_sql(births_query, con)\n",
      "births.groupby('year')['births'].sum()"
     ],
     "language": "python",
     "metadata": {},
     "outputs": []
    },
    {
     "cell_type": "code",
     "collapsed": false,
     "input": [
      "births.head()"
     ],
     "language": "python",
     "metadata": {},
     "outputs": []
    },
    {
     "cell_type": "code",
     "collapsed": false,
     "input": [
      "aggregated = merge(mm_data[mm_data['year'] > 2007],births[(births['year']< 2013) & (births['year'] > 2007)],on = ['year','insurance'], how =\"outer\")\n",
      "aggregated['year'] = aggregated['year'].astype(str)\n",
      "aggregated.head()"
     ],
     "language": "python",
     "metadata": {},
     "outputs": []
    },
    {
     "cell_type": "code",
     "collapsed": false,
     "input": [
      "sum(isnull(aggregated))"
     ],
     "language": "python",
     "metadata": {},
     "outputs": []
    },
    {
     "cell_type": "code",
     "collapsed": false,
     "input": [
      "aggregated['births'][isnull(aggregated['births'])] = 0\n",
      "aggregated['mm_count'][isnull(aggregated['mm_count'])] = 0\n",
      "aggregated.head()"
     ],
     "language": "python",
     "metadata": {},
     "outputs": []
    },
    {
     "cell_type": "code",
     "collapsed": false,
     "input": [
      "aggr_year = aggregated.groupby(['year'])\n",
      "mm = aggr_year['mm_count'].sum()\n",
      "mm"
     ],
     "language": "python",
     "metadata": {},
     "outputs": []
    },
    {
     "cell_type": "code",
     "collapsed": false,
     "input": [
      "b = aggr_year['births'].sum()\n",
      "b"
     ],
     "language": "python",
     "metadata": {},
     "outputs": []
    },
    {
     "cell_type": "code",
     "collapsed": false,
     "input": [
      "mmr = (aggr_year['mm_count'].sum() * 100000.0) / aggr_year['births'].sum()\n",
      "mmr.plot()\n",
      "ylabel('MMR')\n",
      "xlabel('Year')\n",
      "title('Total MMR per year')"
     ],
     "language": "python",
     "metadata": {},
     "outputs": []
    },
    {
     "cell_type": "code",
     "collapsed": false,
     "input": [
      "import matplotlib.pyplot as plt\n",
      "#some_ins = ins[(ins['insurance_name'] == 'IMSS') | (ins['insurance_name'] == 'SE IGNORA') | (ins['insurance_name'] == 'NINGUNA') | (ins['insurance_name'] == 'SEGURO POPULAR')]\n",
      "iins = aggregated[aggregated['year'] == '2012.0'].set_index('insurance')['births']\n",
      "fig, ax = plt.subplots(figsize=[10, 10])\n",
      "ax.pie(iins, labels=[\"{0}\".format(l1) for l1 in iins.index], autopct='%1.1f%%', labeldistance=1.05)\n",
      "ax.set_title('Distribution of Births by Insurance in 2012')\n"
     ],
     "language": "python",
     "metadata": {},
     "outputs": []
    },
    {
     "cell_type": "code",
     "collapsed": false,
     "input": [
      "import matplotlib.pyplot as plt\n",
      "#some_ins = ins[(ins['insurance_name'] == 'IMSS') | (ins['insurance_name'] == 'SE IGNORA') | (ins['insurance_name'] == 'NINGUNA') | (ins['insurance_name'] == 'SEGURO POPULAR')]\n",
      "iins = aggregated[aggregated['year'] == '2012.0'].set_index('insurance')['mm_count']\n",
      "fig, ax = plt.subplots(figsize=[10, 10])\n",
      "ax.pie(iins, labels=[\"{0}\".format(l1) for l1 in iins.index], autopct='%1.1f%%', labeldistance=1.05)\n",
      "ax.set_title('Distribution of Deaths by Insurance in 2012')\n"
     ],
     "language": "python",
     "metadata": {},
     "outputs": []
    },
    {
     "cell_type": "code",
     "collapsed": false,
     "input": [
      "group = aggregated[aggregated['insurance'] == 'NINGUNA'].groupby('year')\n",
      "mmr = (group['mm_count'].sum() * 100000.0)/group['births'].sum()\n",
      "mmr.plot()"
     ],
     "language": "python",
     "metadata": {},
     "outputs": []
    },
    {
     "cell_type": "code",
     "collapsed": false,
     "input": [
      "aggr_ins = aggregated.groupby(['insurance'])\n",
      "fig1 = plt.figure()\n",
      "# Make a legend for specific lines.\n",
      "import matplotlib.pyplot as plt\n",
      "import numpy as np\n",
      "#import plotly.plotly as py\n",
      "\n",
      "ax = fig1.add_subplot(111)\n",
      "\n",
      "plt.legend(loc='out')\n",
      "lines = []\n",
      "i = 0\n",
      "for key,grp in aggr_ins:\n",
      "    #if(key != 'NO APLICA') & (key != 'NO ESPECIFICADO') & (key != 'SE IGNORA'):\n",
      "    if(key == 'IMSS') | (key == 'NINGUNA') | (key == 'SEGURO POPULAR'):\n",
      "\n",
      "        group = aggregated[aggregated['insurance'] == key].groupby('year')\n",
      "        mmr = (group['mm_count'].sum() * 100000.0)/group['births'].sum()\n",
      "        mmr.plot(label=key,legend ='true')\n",
      "xlabel('Year')\n",
      "plt.ylabel('MMR')\n",
      "plt.title('MMR by different insurance providers')\n",
      "\n",
      "handles, labels = ax.get_legend_handles_labels()\n",
      "lgd = ax.legend(handles, labels, loc='upper center', bbox_to_anchor=(0.5,-0.1))\n",
      "ax.grid('on')\n",
      "fig1.savefig('samplefigure', bbox_extra_artists=(lgd,), bbox_inches='tight')\n",
      "plt.show()\n"
     ],
     "language": "python",
     "metadata": {},
     "outputs": []
    },
    {
     "cell_type": "code",
     "collapsed": false,
     "input": [
      "fig1 = plt.figure()\n",
      "\n",
      "ax = fig1.add_subplot(111)\n",
      "\n",
      "plt.legend(loc='out')\n",
      "lines = []\n",
      "i = 0\n",
      "for key,grp in aggr_ins:\n",
      "    #if(key != 'NO APLICA') & (key != 'NO ESPECIFICADO') & (key != 'SE IGNORA'):\n",
      "    if(key == 'IMSS') | (key == 'NINGUNA') | (key == 'SEGURO POPULAR'):\n",
      "\n",
      "        group = aggregated[aggregated['insurance'] == key].groupby('year')\n",
      "        b = group['births'].sum()\n",
      "        b.plot(label=key,legend ='true')\n",
      "xlabel('Year')\n",
      "plt.ylabel('Births')\n",
      "plt.title('Births by different insurance providers')\n",
      "\n",
      "handles, labels = ax.get_legend_handles_labels()\n",
      "lgd = ax.legend(handles, labels, loc='upper center', bbox_to_anchor=(0.5,-0.1))\n",
      "ax.grid('on')\n",
      "fig1.savefig('samplefigure', bbox_extra_artists=(lgd,), bbox_inches='tight')\n",
      "plt.show()"
     ],
     "language": "python",
     "metadata": {},
     "outputs": []
    },
    {
     "cell_type": "code",
     "collapsed": false,
     "input": [
      "group = aggregated[aggregated['insurance'] == 'IMSS'].groupby('year')\n",
      "mmr = (group['mm_count'].sum() * 100000.0)/group['births'].sum()\n",
      "mm = group['mm_count'].sum()\n",
      "b = group['births'].sum()\n",
      "print mm\n",
      "print b\n",
      "mmr.plot(label = 'IMSS',legend = True)"
     ],
     "language": "python",
     "metadata": {},
     "outputs": []
    },
    {
     "cell_type": "code",
     "collapsed": false,
     "input": [
      "group = aggregated[aggregated['insurance'] == 'ISSSTE'].groupby('year')\n",
      "mmr = (group['mm_count'].sum() * 100000.0)/group['births'].sum()\n",
      "mm = group['mm_count'].sum()\n",
      "b = group['births'].sum()\n",
      "print mm\n",
      "print b\n",
      "mmr.plot(label = 'ISSSTE',legend = True)"
     ],
     "language": "python",
     "metadata": {},
     "outputs": []
    },
    {
     "cell_type": "code",
     "collapsed": false,
     "input": [
      "group = aggregated[aggregated['insurance'] == 'IMSS OPORTUNIDADES'].groupby('year')\n",
      "mmr = (group['mm_count'].sum() * 100000.0)/group['births'].sum()\n",
      "mm = group['mm_count'].sum()\n",
      "b = group['births'].sum()\n",
      "print mm\n",
      "print b\n",
      "mmr.plot(label = 'IMSS OPORTUNIDADES',legend = True)"
     ],
     "language": "python",
     "metadata": {},
     "outputs": []
    },
    {
     "cell_type": "code",
     "collapsed": false,
     "input": [
      "group = aggregated[aggregated['insurance'] == 'NINGUNA'].groupby('year')\n",
      "mmr = (group['mm_count'].sum() * 100000.0)/group['births'].sum()\n",
      "mm = group['mm_count'].sum()\n",
      "b = group['births'].sum()\n",
      "print mm\n",
      "print b\n",
      "b.plot(label = 'NINGUNA',legend = True)\n",
      "ylabel('births')\n",
      "title('Births within population with no insurance')"
     ],
     "language": "python",
     "metadata": {},
     "outputs": []
    },
    {
     "cell_type": "code",
     "collapsed": false,
     "input": [
      "group = aggregated[aggregated['insurance'] == 'OTRA'].groupby('year')\n",
      "mmr = (group['mm_count'].sum() * 100000.0)/group['births'].sum()\n",
      "mm = group['mm_count'].sum()\n",
      "b = group['births'].sum()\n",
      "print mm\n",
      "print b\n",
      "mmr.plot(label = 'OTRA',legend = True)\n"
     ],
     "language": "python",
     "metadata": {},
     "outputs": []
    },
    {
     "cell_type": "code",
     "collapsed": false,
     "input": [
      "group = aggregated[aggregated['insurance'] == 'PEMEX'].groupby('year')\n",
      "mmr = (group['mm_count'].sum() * 100000.0)/group['births'].sum()\n",
      "mm = group['mm_count'].sum()\n",
      "b = group['births'].sum()\n",
      "print mm\n",
      "print b\n",
      "mmr.plot(label = 'PEMEX',legend = True)"
     ],
     "language": "python",
     "metadata": {},
     "outputs": []
    },
    {
     "cell_type": "code",
     "collapsed": false,
     "input": [
      "group = aggregated[aggregated['insurance'] == 'SE IGNORA'].groupby('year')\n",
      "mmr = (group['mm_count'].sum() * 100000.0)/group['births'].sum()\n",
      "mm = group['mm_count'].sum()\n",
      "b = group['births'].sum()\n",
      "print mm\n",
      "print b"
     ],
     "language": "python",
     "metadata": {},
     "outputs": []
    },
    {
     "cell_type": "code",
     "collapsed": false,
     "input": [
      "group = aggregated[aggregated['insurance'] == 'SEDENA'].groupby('year')\n",
      "mmr = (group['mm_count'].sum() * 100000.0)/group['births'].sum()\n",
      "mm = group['mm_count'].sum()\n",
      "b = group['births'].sum()\n",
      "mmr.plot(label = 'SEDENA',legend = True)\n",
      "print mm\n",
      "print b"
     ],
     "language": "python",
     "metadata": {},
     "outputs": []
    },
    {
     "cell_type": "code",
     "collapsed": false,
     "input": [
      "group = aggregated[aggregated['insurance'] == 'SEGURO POPULAR'].groupby('year')\n",
      "mmr = (group['mm_count'].sum() * 100000.0)/group['births'].sum()\n",
      "mm = group['mm_count'].sum()\n",
      "b = group['births'].sum()\n",
      "mmr.plot(label = 'SEGURO POPULAR',legend = True)\n",
      "print mm\n",
      "print b"
     ],
     "language": "python",
     "metadata": {},
     "outputs": []
    },
    {
     "cell_type": "code",
     "collapsed": false,
     "input": [
      "group = aggregated[aggregated['insurance'] == 'SEMAR'].groupby('year')\n",
      "mmr = (group['mm_count'].sum() * 100000.0)/group['births'].sum()\n",
      "mm = group['mm_count'].sum()\n",
      "b = group['births'].sum()\n",
      "mmr.plot(label = 'SEMAR',legend = True)\n",
      "print mm\n",
      "print b"
     ],
     "language": "python",
     "metadata": {},
     "outputs": []
    },
    {
     "cell_type": "markdown",
     "metadata": {},
     "source": [
      "#Checking pair of insurance fields in births data"
     ]
    },
    {
     "cell_type": "code",
     "collapsed": false,
     "input": [
      "births_query = \"select table_year as year,count(*) as births, cat_ins.\\\"Descrip\\\" as insurance1, cat_ins2.\\\"Descrip\\\" as insurance2 from births_data \\\n",
      "    left join births_13.\\\"CATDEREC\\\" as cat_ins on mother_health_affiliation::int = cat_ins.\\\"LLAVEDER\\\"::int \\\n",
      "    left join births_13.\\\"CATDEREC\\\" as cat_ins2 on mother_health_affiliation2::int = cat_ins2.\\\"LLAVEDER\\\"::int \\\n",
      "    group by year,cat_ins.\\\"Descrip\\\",cat_ins2.\\\"Descrip\\\"\"\n",
      "\n",
      "births_ins2 = read_sql( births_query, con)\n",
      "births12 = births_ins2[births_ins2.year == 2012]\n",
      "print births12.head()\n"
     ],
     "language": "python",
     "metadata": {},
     "outputs": []
    },
    {
     "cell_type": "code",
     "collapsed": false,
     "input": [
      "births12.groupby(['insurance2','insurance1'])['births'].sum().unstack(level=0)"
     ],
     "language": "python",
     "metadata": {},
     "outputs": []
    },
    {
     "cell_type": "markdown",
     "metadata": {},
     "source": [
      "##Looking at state-by-state insurance"
     ]
    },
    {
     "cell_type": "code",
     "collapsed": false,
     "input": [
      "births_query = \"select table_year as year,count(*) as births, cat_ins.\\\"Descrip\\\" as insurance, cat_sta.\\\"DESCRIP\\\" as state, cat_sta.\\\"EDO\\\" as state_code from births_data \\\n",
      "left join births_13.\\\"CATDEREC\\\" as cat_ins on mother_health_affiliation::int = cat_ins.\\\"LLAVEDER\\\"::int \\\n",
      "left join births_13.\\\"CatEstados\\\" as cat_sta on mother_res_state::int = cat_sta.\\\"EDO\\\"::int \\\n",
      "group by year,cat_ins.\\\"Descrip\\\",cat_sta.\\\"DESCRIP\\\",cat_sta.\\\"EDO\\\"\"\n",
      "births_state = read_sql( births_query, con)\n",
      "births_state.head()"
     ],
     "language": "python",
     "metadata": {},
     "outputs": []
    },
    {
     "cell_type": "code",
     "collapsed": false,
     "input": [
      "mm_query = \"SELECT  mm.year,cat_ins.\\\"Descrip\\\" as insurance, cat_sta.\\\"DESCRIP\\\" as state, cat_sta.\\\"EDO\\\" as state_code,count(*) as mm_count \\\n",
      "  FROM maternal_mortality.maternal_mortality as mm left join births_13.\\\"CATDEREC\\\" as cat_ins on mm.derech::int = cat_ins.\\\"LLAVEDER\\\"::int \\\n",
      "  left join births_13.\\\"CatEstados\\\" as cat_sta on mm.entrh::int = cat_sta.\\\"EDO\\\"::int \\\n",
      "  group by mm.year,cat_ins.\\\"Descrip\\\",cat_sta.\\\"DESCRIP\\\",cat_sta.\\\"EDO\\\"\"\n",
      "mm_state = read_sql( mm_query, con)\n",
      "mm_state.head()"
     ],
     "language": "python",
     "metadata": {},
     "outputs": []
    },
    {
     "cell_type": "markdown",
     "metadata": {},
     "source": [
      "###Looking at states: \n",
      "15,30,7,9\n",
      "\n",
      "Mexico, VERACRUZ DE IGNACIO DE LA LLAVE,CHIAPAS,DISTRITO FEDERAL  "
     ]
    },
    {
     "cell_type": "code",
     "collapsed": false,
     "input": [
      "aggregated_state = merge(mm_state[mm_state['year'] > 2007][['year','mm_count','state_code','insurance']],births_state[(births_state['year']< 2013) & (births_state['year'] > 2007)],on = ['year','state_code','insurance'], how =\"outer\")\n",
      "aggregated_state['year'] = aggregated_state['year'].astype(str)\n",
      "aggregated_state.tail()"
     ],
     "language": "python",
     "metadata": {},
     "outputs": []
    },
    {
     "cell_type": "code",
     "collapsed": false,
     "input": [
      "aggregated_state['births'][isnull(aggregated_state['births'])] = 0\n",
      "aggregated_state['mm_count'][isnull(aggregated_state['mm_count'])] = 0\n",
      "aggregated_state[aggregated_state['year'] == \"2009.0\"].tail()"
     ],
     "language": "python",
     "metadata": {},
     "outputs": []
    },
    {
     "cell_type": "code",
     "collapsed": false,
     "input": [
      "group = aggregated_state[(aggregated_state['state_code'] == \"07\") & (aggregated_state['insurance'] == \"NINGUNA\")].groupby('year')\n",
      "mm = group['mm_count'].sum()\n",
      "b = group['births'].sum()\n",
      "mmr = (mm * 100000.0)/ b\n",
      "print mm\n",
      "print b\n",
      "mmr.plot(label = 'NINGUNA',legend = True,title='State : CHIAPAS')\n"
     ],
     "language": "python",
     "metadata": {},
     "outputs": []
    },
    {
     "cell_type": "code",
     "collapsed": false,
     "input": [
      "group_state = aggregated_state[aggregated_state['state_code'] == \"07\"]\n",
      "\n",
      "aggr_ins = group_state.groupby(['insurance'])\n",
      "fig1 = plt.figure()\n",
      "# Make a legend for specific lines.\n",
      "import matplotlib.pyplot as plt\n",
      "import numpy as np\n",
      "#import plotly.plotly as py\n",
      "\n",
      "ax = fig1.add_subplot(111)\n",
      "\n",
      "plt.legend(loc='out')\n",
      "lines = []\n",
      "i = 0\n",
      "for key,grp in aggr_ins:\n",
      "    #if(key != 'NO APLICA') & (key != 'NO ESPECIFICADO') & (key != 'SE IGNORA'):\n",
      "    if(key == 'IMSS') | (key == 'NINGUNA') | (key == 'SEGURO POPULAR'):\n",
      "\n",
      "        group = group_state[group_state['insurance'] == key].groupby('year')\n",
      "        mmr = (group['mm_count'].sum() * 100000.0)/group['births'].sum()\n",
      "        mmr.plot(label=key,legend ='true')\n",
      "xlabel('Year')\n",
      "plt.ylabel('MMR')\n",
      "plt.title('CHIAPAS')\n",
      "\n",
      "handles, labels = ax.get_legend_handles_labels()\n",
      "lgd = ax.legend(handles, labels, loc='upper center', bbox_to_anchor=(0.5,-0.1))\n",
      "ax.grid('on')\n",
      "fig1.savefig('samplefigure', bbox_extra_artists=(lgd,), bbox_inches='tight')\n",
      "plt.show()"
     ],
     "language": "python",
     "metadata": {},
     "outputs": []
    },
    {
     "cell_type": "code",
     "collapsed": false,
     "input": [
      "group_state = aggregated_state[aggregated_state['state_code'] == \"07\"]\n",
      "\n",
      "aggr_ins = group_state.groupby(['insurance'])\n",
      "fig1 = plt.figure()\n",
      "# Make a legend for specific lines.\n",
      "import matplotlib.pyplot as plt\n",
      "import numpy as np\n",
      "#import plotly.plotly as py\n",
      "\n",
      "ax = fig1.add_subplot(111)\n",
      "\n",
      "plt.legend(loc='out')\n",
      "lines = []\n",
      "i = 0\n",
      "for key,grp in aggr_ins:\n",
      "    #if(key != 'NO APLICA') & (key != 'NO ESPECIFICADO') & (key != 'SE IGNORA'):\n",
      "    if(key == 'IMSS') | (key == 'NINGUNA') | (key == 'SEGURO POPULAR'):\n",
      "\n",
      "        group = group_state[group_state['insurance'] == key].groupby('year')\n",
      "        b = group['births'].sum()\n",
      "        b.plot(label=key,legend ='true')\n",
      "xlabel('Year')\n",
      "plt.ylabel('Births')\n",
      "plt.title('CHIAPAS')\n",
      "\n",
      "handles, labels = ax.get_legend_handles_labels()\n",
      "lgd = ax.legend(handles, labels, loc='upper center', bbox_to_anchor=(0.5,-0.1))\n",
      "ax.grid('on')\n",
      "fig1.savefig('samplefigure', bbox_extra_artists=(lgd,), bbox_inches='tight')\n",
      "plt.show()"
     ],
     "language": "python",
     "metadata": {},
     "outputs": []
    },
    {
     "cell_type": "code",
     "collapsed": false,
     "input": [
      "group_state = aggregated_state[aggregated_state['state_code'] == \"09\"]\n",
      "\n",
      "aggr_ins = group_state.groupby(['insurance'])\n",
      "fig1 = plt.figure()\n",
      "# Make a legend for specific lines.\n",
      "import matplotlib.pyplot as plt\n",
      "import numpy as np\n",
      "#import plotly.plotly as py\n",
      "\n",
      "ax = fig1.add_subplot(111)\n",
      "\n",
      "plt.legend(loc='out')\n",
      "lines = []\n",
      "i = 0\n",
      "for key,grp in aggr_ins:\n",
      "    #if(key != 'NO APLICA') & (key != 'NO ESPECIFICADO') & (key != 'SE IGNORA'):\n",
      "    if(key == 'IMSS') | (key == 'NINGUNA') | (key == 'SEGURO POPULAR'):\n",
      "\n",
      "        group = group_state[group_state['insurance'] == key].groupby('year')\n",
      "        mmr = (group['mm_count'].sum() * 100000.0)/group['births'].sum()\n",
      "        mmr.plot(label=key,legend ='true')\n",
      "xlabel('Year')\n",
      "plt.ylabel('MMR')\n",
      "plt.title('DISTRITO FEDERAL')\n",
      "\n",
      "handles, labels = ax.get_legend_handles_labels()\n",
      "lgd = ax.legend(handles, labels, loc='upper center', bbox_to_anchor=(0.5,-0.1))\n",
      "ax.grid('on')\n",
      "fig1.savefig('samplefigure', bbox_extra_artists=(lgd,), bbox_inches='tight')\n",
      "plt.show()"
     ],
     "language": "python",
     "metadata": {},
     "outputs": []
    },
    {
     "cell_type": "code",
     "collapsed": false,
     "input": [
      "group_state = aggregated_state[aggregated_state['state_code'] == \"09\"]\n",
      "\n",
      "aggr_ins = group_state.groupby(['insurance'])\n",
      "fig1 = plt.figure()\n",
      "# Make a legend for specific lines.\n",
      "import matplotlib.pyplot as plt\n",
      "import numpy as np\n",
      "#import plotly.plotly as py\n",
      "\n",
      "ax = fig1.add_subplot(111)\n",
      "\n",
      "plt.legend(loc='out')\n",
      "lines = []\n",
      "i = 0\n",
      "for key,grp in aggr_ins:\n",
      "    #if(key != 'NO APLICA') & (key != 'NO ESPECIFICADO') & (key != 'SE IGNORA'):\n",
      "    if(key == 'IMSS') | (key == 'NINGUNA') | (key == 'SEGURO POPULAR'):\n",
      "\n",
      "        group = group_state[group_state['insurance'] == key].groupby('year')\n",
      "        b = group['births'].sum()\n",
      "        b.plot(label=key,legend ='true')\n",
      "xlabel('Year')\n",
      "plt.ylabel('Births')\n",
      "plt.title('DISTRITO FEDERAL')\n",
      "\n",
      "handles, labels = ax.get_legend_handles_labels()\n",
      "lgd = ax.legend(handles, labels, loc='upper center', bbox_to_anchor=(0.5,-0.1))\n",
      "ax.grid('on')\n",
      "fig1.savefig('samplefigure', bbox_extra_artists=(lgd,), bbox_inches='tight')\n",
      "plt.show()"
     ],
     "language": "python",
     "metadata": {},
     "outputs": []
    },
    {
     "cell_type": "code",
     "collapsed": false,
     "input": [
      "group_state = aggregated_state[aggregated_state['state_code'] == \"15\"]\n",
      "\n",
      "aggr_ins = group_state.groupby(['insurance'])\n",
      "fig1 = plt.figure()\n",
      "# Make a legend for specific lines.\n",
      "import matplotlib.pyplot as plt\n",
      "import numpy as np\n",
      "#import plotly.plotly as py\n",
      "\n",
      "ax = fig1.add_subplot(111)\n",
      "\n",
      "plt.legend(loc='out')\n",
      "lines = []\n",
      "i = 0\n",
      "for key,grp in aggr_ins:\n",
      "    #if(key != 'NO APLICA') & (key != 'NO ESPECIFICADO') & (key != 'SE IGNORA'):\n",
      "    if(key == 'IMSS') | (key == 'NINGUNA') | (key == 'SEGURO POPULAR'):\n",
      "\n",
      "        group = group_state[group_state['insurance'] == key].groupby('year')\n",
      "        mmr = (group['mm_count'].sum() * 100000.0)/group['births'].sum()\n",
      "        mmr.plot(label=key,legend ='true')\n",
      "xlabel('Year')\n",
      "plt.ylabel('MMR')\n",
      "plt.title('MEXICO')\n",
      "\n",
      "handles, labels = ax.get_legend_handles_labels()\n",
      "lgd = ax.legend(handles, labels, loc='upper center', bbox_to_anchor=(0.5,-0.1))\n",
      "ax.grid('on')\n",
      "fig1.savefig('samplefigure', bbox_extra_artists=(lgd,), bbox_inches='tight')\n",
      "plt.show()"
     ],
     "language": "python",
     "metadata": {},
     "outputs": []
    },
    {
     "cell_type": "code",
     "collapsed": false,
     "input": [
      "group_state = aggregated_state[aggregated_state['state_code'] == \"15\"]\n",
      "\n",
      "aggr_ins = group_state.groupby(['insurance'])\n",
      "fig1 = plt.figure()\n",
      "# Make a legend for specific lines.\n",
      "import matplotlib.pyplot as plt\n",
      "import numpy as np\n",
      "#import plotly.plotly as py\n",
      "\n",
      "ax = fig1.add_subplot(111)\n",
      "\n",
      "plt.legend(loc='out')\n",
      "lines = []\n",
      "i = 0\n",
      "for key,grp in aggr_ins:\n",
      "    #if(key != 'NO APLICA') & (key != 'NO ESPECIFICADO') & (key != 'SE IGNORA'):\n",
      "    if(key == 'IMSS') | (key == 'NINGUNA') | (key == 'SEGURO POPULAR'):\n",
      "\n",
      "        group = group_state[group_state['insurance'] == key].groupby('year')\n",
      "        b = group['births'].sum()\n",
      "        b.plot(label=key,legend ='true')\n",
      "xlabel('Year')\n",
      "plt.ylabel('Births')\n",
      "plt.title('MEXICO')\n",
      "\n",
      "handles, labels = ax.get_legend_handles_labels()\n",
      "lgd = ax.legend(handles, labels, loc='upper center', bbox_to_anchor=(0.5,-0.1))\n",
      "ax.grid('on')\n",
      "fig1.savefig('samplefigure', bbox_extra_artists=(lgd,), bbox_inches='tight')\n",
      "plt.show()"
     ],
     "language": "python",
     "metadata": {},
     "outputs": []
    },
    {
     "cell_type": "code",
     "collapsed": false,
     "input": [
      "group_state = aggregated_state[aggregated_state['state_code'] == \"30\"]\n",
      "\n",
      "aggr_ins = group_state.groupby(['insurance'])\n",
      "fig1 = plt.figure()\n",
      "# Make a legend for specific lines.\n",
      "import matplotlib.pyplot as plt\n",
      "import numpy as np\n",
      "#import plotly.plotly as py\n",
      "\n",
      "ax = fig1.add_subplot(111)\n",
      "\n",
      "plt.legend(loc='out')\n",
      "lines = []\n",
      "i = 0\n",
      "for key,grp in aggr_ins:\n",
      "    #if(key != 'NO APLICA') & (key != 'NO ESPECIFICADO') & (key != 'SE IGNORA'):\n",
      "    if(key == 'IMSS') | (key == 'NINGUNA') | (key == 'SEGURO POPULAR'):\n",
      "\n",
      "        group = group_state[group_state['insurance'] == key].groupby('year')\n",
      "        mmr = (group['mm_count'].sum() * 100000.0)/group['births'].sum()\n",
      "        mmr.plot(label=key,legend ='true')\n",
      "xlabel('Year')\n",
      "plt.ylabel('MMR')\n",
      "plt.title('VERACRUZ DE IGNACIO DE LA LLAVE')\n",
      "\n",
      "handles, labels = ax.get_legend_handles_labels()\n",
      "lgd = ax.legend(handles, labels, loc='upper center', bbox_to_anchor=(0.5,-0.1))\n",
      "ax.grid('on')\n",
      "fig1.savefig('samplefigure', bbox_extra_artists=(lgd,), bbox_inches='tight')\n",
      "plt.show()"
     ],
     "language": "python",
     "metadata": {},
     "outputs": []
    },
    {
     "cell_type": "code",
     "collapsed": false,
     "input": [
      "group_state = aggregated_state[aggregated_state['state_code'] == \"30\"]\n",
      "\n",
      "aggr_ins = group_state.groupby(['insurance'])\n",
      "fig1 = plt.figure()\n",
      "# Make a legend for specific lines.\n",
      "import matplotlib.pyplot as plt\n",
      "import numpy as np\n",
      "#import plotly.plotly as py\n",
      "\n",
      "ax = fig1.add_subplot(111)\n",
      "\n",
      "plt.legend(loc='out')\n",
      "lines = []\n",
      "i = 0\n",
      "for key,grp in aggr_ins:\n",
      "    #if(key != 'NO APLICA') & (key != 'NO ESPECIFICADO') & (key != 'SE IGNORA'):\n",
      "    if(key == 'IMSS') | (key == 'NINGUNA') | (key == 'SEGURO POPULAR'):\n",
      "\n",
      "        group = group_state[group_state['insurance'] == key].groupby('year')\n",
      "        b = group['births'].sum()\n",
      "        b.plot(label=key,legend ='true')\n",
      "xlabel('Year')\n",
      "plt.ylabel('Births')\n",
      "plt.title('VERACRUZ DE IGNACIO DE LA LLAVE')\n",
      "\n",
      "handles, labels = ax.get_legend_handles_labels()\n",
      "lgd = ax.legend(handles, labels, loc='upper center', bbox_to_anchor=(0.5,-0.1))\n",
      "ax.grid('on')\n",
      "fig1.savefig('samplefigure', bbox_extra_artists=(lgd,), bbox_inches='tight')\n",
      "plt.show()"
     ],
     "language": "python",
     "metadata": {},
     "outputs": []
    },
    {
     "cell_type": "code",
     "collapsed": false,
     "input": [
      "group_state = aggregated_state[aggregated_state['state_code'] == \"08\"]\n",
      "\n",
      "aggr_ins = group_state.groupby(['insurance'])\n",
      "fig1 = plt.figure()\n",
      "# Make a legend for specific lines.\n",
      "import matplotlib.pyplot as plt\n",
      "import numpy as np\n",
      "#import plotly.plotly as py\n",
      "\n",
      "ax = fig1.add_subplot(111)\n",
      "\n",
      "plt.legend(loc='out')\n",
      "lines = []\n",
      "i = 0\n",
      "for key,grp in aggr_ins:\n",
      "    #if(key != 'NO APLICA') & (key != 'NO ESPECIFICADO') & (key != 'SE IGNORA'):\n",
      "    if(key == 'IMSS') | (key == 'NINGUNA') | (key == 'SEGURO POPULAR'):\n",
      "\n",
      "        group = group_state[group_state['insurance'] == key].groupby('year')\n",
      "        mmr = (group['mm_count'].sum() * 100000.0)/group['births'].sum()\n",
      "        mmr.plot(label=key,legend ='true')\n",
      "xlabel('Year')\n",
      "plt.ylabel('MMR')\n",
      "plt.title('CHIHUAHUA')\n",
      "\n",
      "handles, labels = ax.get_legend_handles_labels()\n",
      "lgd = ax.legend(handles, labels, loc='upper center', bbox_to_anchor=(0.5,-0.1))\n",
      "ax.grid('on')\n",
      "fig1.savefig('samplefigure', bbox_extra_artists=(lgd,), bbox_inches='tight')\n",
      "plt.show()"
     ],
     "language": "python",
     "metadata": {},
     "outputs": []
    },
    {
     "cell_type": "code",
     "collapsed": false,
     "input": [
      "group_state = aggregated_state[aggregated_state['state_code'] == \"08\"]\n",
      "\n",
      "aggr_ins = group_state.groupby(['insurance'])\n",
      "fig1 = plt.figure()\n",
      "# Make a legend for specific lines.\n",
      "import matplotlib.pyplot as plt\n",
      "import numpy as np\n",
      "#import plotly.plotly as py\n",
      "\n",
      "ax = fig1.add_subplot(111)\n",
      "\n",
      "plt.legend(loc='out')\n",
      "lines = []\n",
      "i = 0\n",
      "for key,grp in aggr_ins:\n",
      "    #if(key != 'NO APLICA') & (key != 'NO ESPECIFICADO') & (key != 'SE IGNORA'):\n",
      "    if(key == 'IMSS') | (key == 'NINGUNA') | (key == 'SEGURO POPULAR'):\n",
      "\n",
      "        group = group_state[group_state['insurance'] == key].groupby('year')\n",
      "        b = group['births'].sum()\n",
      "        b.plot(label=key,legend ='true')\n",
      "xlabel('Year')\n",
      "plt.ylabel('Births')\n",
      "plt.title('CHIHUAHUA')\n",
      "\n",
      "handles, labels = ax.get_legend_handles_labels()\n",
      "lgd = ax.legend(handles, labels, loc='upper center', bbox_to_anchor=(0.5,-0.1))\n",
      "ax.grid('on')\n",
      "fig1.savefig('samplefigure', bbox_extra_artists=(lgd,), bbox_inches='tight')\n",
      "plt.show()"
     ],
     "language": "python",
     "metadata": {},
     "outputs": []
    },
    {
     "cell_type": "code",
     "collapsed": false,
     "input": [
      "group_state = aggregated_state[aggregated_state['state_code'] == \"04\"]\n",
      "\n",
      "aggr_ins = group_state.groupby(['insurance'])\n",
      "fig1 = plt.figure()\n",
      "# Make a legend for specific lines.\n",
      "import matplotlib.pyplot as plt\n",
      "import numpy as np\n",
      "#import plotly.plotly as py\n",
      "\n",
      "ax = fig1.add_subplot(111)\n",
      "\n",
      "plt.legend(loc='out')\n",
      "lines = []\n",
      "i = 0\n",
      "for key,grp in aggr_ins:\n",
      "    #if(key != 'NO APLICA') & (key != 'NO ESPECIFICADO') & (key != 'SE IGNORA'):\n",
      "    if(key == 'IMSS') | (key == 'NINGUNA') | (key == 'SEGURO POPULAR'):\n",
      "\n",
      "        group = group_state[group_state['insurance'] == key].groupby('year')\n",
      "        mmr = (group['mm_count'].sum() * 100000.0)/group['births'].sum()\n",
      "        mmr.plot(label=key,legend ='true')\n",
      "xlabel('Year')\n",
      "plt.ylabel('MMR')\n",
      "plt.title('CAMPECHE')\n",
      "\n",
      "handles, labels = ax.get_legend_handles_labels()\n",
      "lgd = ax.legend(handles, labels, loc='upper center', bbox_to_anchor=(0.5,-0.1))\n",
      "ax.grid('on')\n",
      "fig1.savefig('samplefigure', bbox_extra_artists=(lgd,), bbox_inches='tight')\n",
      "plt.show()"
     ],
     "language": "python",
     "metadata": {},
     "outputs": []
    },
    {
     "cell_type": "code",
     "collapsed": false,
     "input": [
      "group_state = aggregated_state[aggregated_state['state_code'] == \"04\"]\n",
      "\n",
      "aggr_ins = group_state.groupby(['insurance'])\n",
      "fig1 = plt.figure()\n",
      "# Make a legend for specific lines.\n",
      "import matplotlib.pyplot as plt\n",
      "import numpy as np\n",
      "#import plotly.plotly as py\n",
      "\n",
      "ax = fig1.add_subplot(111)\n",
      "\n",
      "plt.legend(loc='out')\n",
      "lines = []\n",
      "i = 0\n",
      "for key,grp in aggr_ins:\n",
      "    #if(key != 'NO APLICA') & (key != 'NO ESPECIFICADO') & (key != 'SE IGNORA'):\n",
      "    if(key == 'IMSS') | (key == 'NINGUNA') | (key == 'SEGURO POPULAR'):\n",
      "\n",
      "        group = group_state[group_state['insurance'] == key].groupby('year')\n",
      "        b = group['births'].sum()\n",
      "        b.plot(label=key,legend ='true')\n",
      "xlabel('Year')\n",
      "plt.ylabel('Births')\n",
      "plt.title('CAMPECE')\n",
      "\n",
      "handles, labels = ax.get_legend_handles_labels()\n",
      "lgd = ax.legend(handles, labels, loc='upper center', bbox_to_anchor=(0.5,-0.1))\n",
      "ax.grid('on')\n",
      "fig1.savefig('samplefigure', bbox_extra_artists=(lgd,), bbox_inches='tight')\n",
      "plt.show()"
     ],
     "language": "python",
     "metadata": {},
     "outputs": []
    },
    {
     "cell_type": "code",
     "collapsed": false,
     "input": [
      "group_state = aggregated_state[aggregated_state['state_code'] == \"18\"]\n",
      "\n",
      "aggr_ins = group_state.groupby(['insurance'])\n",
      "fig1 = plt.figure()\n",
      "# Make a legend for specific lines.\n",
      "import matplotlib.pyplot as plt\n",
      "import numpy as np\n",
      "#import plotly.plotly as py\n",
      "\n",
      "ax = fig1.add_subplot(111)\n",
      "\n",
      "plt.legend(loc='out')\n",
      "lines = []\n",
      "i = 0\n",
      "for key,grp in aggr_ins:\n",
      "    #if(key != 'NO APLICA') & (key != 'NO ESPECIFICADO') & (key != 'SE IGNORA'):\n",
      "    if(key == 'IMSS') | (key == 'NINGUNA') | (key == 'SEGURO POPULAR'):\n",
      "\n",
      "        group = group_state[group_state['insurance'] == key].groupby('year')\n",
      "        mmr = (group['mm_count'].sum() * 100000.0)/group['births'].sum()\n",
      "        mmr.plot(label=key,legend ='true')\n",
      "xlabel('Year')\n",
      "plt.ylabel('MMR')\n",
      "plt.title('NAYARIT')\n",
      "\n",
      "handles, labels = ax.get_legend_handles_labels()\n",
      "lgd = ax.legend(handles, labels, loc='upper center', bbox_to_anchor=(0.5,-0.1))\n",
      "ax.grid('on')\n",
      "fig1.savefig('samplefigure', bbox_extra_artists=(lgd,), bbox_inches='tight')\n",
      "plt.show()"
     ],
     "language": "python",
     "metadata": {},
     "outputs": []
    },
    {
     "cell_type": "code",
     "collapsed": false,
     "input": [
      "group_state = aggregated_state[aggregated_state['state_code'] == \"18\"]\n",
      "\n",
      "aggr_ins = group_state.groupby(['insurance'])\n",
      "fig1 = plt.figure()\n",
      "# Make a legend for specific lines.\n",
      "import matplotlib.pyplot as plt\n",
      "import numpy as np\n",
      "#import plotly.plotly as py\n",
      "\n",
      "ax = fig1.add_subplot(111)\n",
      "\n",
      "plt.legend(loc='out')\n",
      "lines = []\n",
      "i = 0\n",
      "for key,grp in aggr_ins:\n",
      "    #if(key != 'NO APLICA') & (key != 'NO ESPECIFICADO') & (key != 'SE IGNORA'):\n",
      "    if(key == 'IMSS') | (key == 'NINGUNA') | (key == 'SEGURO POPULAR'):\n",
      "\n",
      "        group = group_state[group_state['insurance'] == key].groupby('year')\n",
      "        b = group['births'].sum()\n",
      "        b.plot(label=key,legend ='true')\n",
      "xlabel('Year')\n",
      "plt.ylabel('Births')\n",
      "plt.title('NAYARIT')\n",
      "\n",
      "handles, labels = ax.get_legend_handles_labels()\n",
      "lgd = ax.legend(handles, labels, loc='upper center', bbox_to_anchor=(0.5,-0.1))\n",
      "ax.grid('on')\n",
      "fig1.savefig('samplefigure', bbox_extra_artists=(lgd,), bbox_inches='tight')\n",
      "plt.show()"
     ],
     "language": "python",
     "metadata": {},
     "outputs": []
    },
    {
     "cell_type": "code",
     "collapsed": false,
     "input": [
      "group_state = aggregated_state[aggregated_state['state_code'] == \"03\"]\n",
      "\n",
      "aggr_ins = group_state.groupby(['insurance'])\n",
      "fig1 = plt.figure()\n",
      "# Make a legend for specific lines.\n",
      "import matplotlib.pyplot as plt\n",
      "import numpy as np\n",
      "#import plotly.plotly as py\n",
      "\n",
      "ax = fig1.add_subplot(111)\n",
      "\n",
      "plt.legend(loc='out')\n",
      "lines = []\n",
      "i = 0\n",
      "for key,grp in aggr_ins:\n",
      "    #if(key != 'NO APLICA') & (key != 'NO ESPECIFICADO') & (key != 'SE IGNORA'):\n",
      "    if(key == 'IMSS') | (key == 'NINGUNA') | (key == 'SEGURO POPULAR'):\n",
      "\n",
      "        group = group_state[group_state['insurance'] == key].groupby('year')\n",
      "        mmr = (group['mm_count'].sum() * 100000.0)/group['births'].sum()\n",
      "        mmr.plot(label=key,legend ='true')\n",
      "xlabel('Year')\n",
      "plt.ylabel('MMR')\n",
      "plt.title('GUERRERO')\n",
      "\n",
      "handles, labels = ax.get_legend_handles_labels()\n",
      "lgd = ax.legend(handles, labels, loc='upper center', bbox_to_anchor=(0.5,-0.1))\n",
      "ax.grid('on')\n",
      "fig1.savefig('samplefigure', bbox_extra_artists=(lgd,), bbox_inches='tight')\n",
      "plt.show()"
     ],
     "language": "python",
     "metadata": {},
     "outputs": []
    },
    {
     "cell_type": "code",
     "collapsed": false,
     "input": [
      "group_state = aggregated_state[aggregated_state['state_code'] == \"12\"]\n",
      "\n",
      "aggr_ins = group_state.groupby(['insurance'])\n",
      "fig1 = plt.figure()\n",
      "# Make a legend for specific lines.\n",
      "import matplotlib.pyplot as plt\n",
      "import numpy as np\n",
      "#import plotly.plotly as py\n",
      "\n",
      "ax = fig1.add_subplot(111)\n",
      "\n",
      "plt.legend(loc='out')\n",
      "lines = []\n",
      "i = 0\n",
      "for key,grp in aggr_ins:\n",
      "    #if(key != 'NO APLICA') & (key != 'NO ESPECIFICADO') & (key != 'SE IGNORA'):\n",
      "    if(key == 'IMSS') | (key == 'NINGUNA') | (key == 'SEGURO POPULAR'):\n",
      "\n",
      "        group = group_state[group_state['insurance'] == key].groupby('year')\n",
      "        b = group['births'].sum()\n",
      "        b.plot(label=key,legend ='true')\n",
      "xlabel('Year')\n",
      "plt.ylabel('Births')\n",
      "plt.title('GUERRERO')\n",
      "\n",
      "handles, labels = ax.get_legend_handles_labels()\n",
      "lgd = ax.legend(handles, labels, loc='upper center', bbox_to_anchor=(0.5,-0.1))\n",
      "ax.grid('on')\n",
      "fig1.savefig('samplefigure', bbox_extra_artists=(lgd,), bbox_inches='tight')\n",
      "plt.show()"
     ],
     "language": "python",
     "metadata": {},
     "outputs": []
    },
    {
     "cell_type": "code",
     "collapsed": false,
     "input": [
      "group_state.groupby('insurance')['births'].sum()"
     ],
     "language": "python",
     "metadata": {},
     "outputs": []
    },
    {
     "cell_type": "code",
     "collapsed": false,
     "input": [
      "uninsured_group = aggregated_state[aggregated_state['insurance'] == 'NINGUNA'].groupby(['state_code','year'])\n",
      "mmr = (uninsured_group['mm_count'].sum()*100000.0)/uninsured_group['births'].sum()\n",
      "print mmr\n",
      "b = uninsured_group['births'].sum()\n",
      "print b"
     ],
     "language": "python",
     "metadata": {},
     "outputs": []
    },
    {
     "cell_type": "code",
     "collapsed": false,
     "input": [
      "mmr_state = mmr.reset_index()\n",
      "mmr_state.columns = ['state_code','year','MMR']\n",
      "mmr_state.head()"
     ],
     "language": "python",
     "metadata": {},
     "outputs": []
    },
    {
     "cell_type": "code",
     "collapsed": false,
     "input": [
      "b_state = b.reset_index()\n",
      "b_state.columns = ['state_code','year','births']\n",
      "b_state.head()"
     ],
     "language": "python",
     "metadata": {},
     "outputs": []
    },
    {
     "cell_type": "code",
     "collapsed": false,
     "input": [
      "def dif_MMR_percentage(group):\n",
      "    return ((group[group['year']=='2012.0'].reset_index()['MMR'] - group[group['year']=='2008.0'].reset_index()['MMR'])*100)/group[group['year']=='2008.0'].reset_index()['MMR']\n",
      "mmr_dif = mmr_state.groupby('state_code').apply(dif_MMR_percentage)\n",
      "mmr_dif = mmr_dif.reset_index()\n",
      "mmr_dif = mmr_dif[['state_code','MMR']]\n",
      "mmr_dif.head()"
     ],
     "language": "python",
     "metadata": {},
     "outputs": []
    },
    {
     "cell_type": "code",
     "collapsed": false,
     "input": [
      "mmr_dif.to_csv(\"mmr_dif_insurance_state.csv\")"
     ],
     "language": "python",
     "metadata": {},
     "outputs": []
    },
    {
     "cell_type": "markdown",
     "metadata": {},
     "source": [
      "#Insurance in Hospital Discharges (SSA Hospitals)"
     ]
    },
    {
     "cell_type": "code",
     "collapsed": false,
     "input": [
      "query = \"select sum(dead) as deaths, sum(actual_births) as births, case when sum(actual_births) <> 0 then ((sum(dead)*100000.0)/sum(actual_births)) else null end as MMR, insurance_name, year from layla.saeh_maternal_10_13 \\\n",
      "    group by year,insurance_name\"\n",
      "ins = read_sql( query, con)\n",
      "ins['year'] = ins['year'].astype(str)\n",
      "ins.head()"
     ],
     "language": "python",
     "metadata": {},
     "outputs": []
    },
    {
     "cell_type": "code",
     "collapsed": false,
     "input": [
      "iins = ins[(ins['insurance_name'] == 'IMSS')|(ins['insurance_name'] == 'SE IGNORA') | (ins['insurance_name'] == 'NINGUNA') | (ins['insurance_name'] == 'SEGURO POPULAR')].set_index(['year','insurance_name'])\n",
      "ax = iins.unstack()['mmr'].plot()\n",
      "\n",
      "xlabel('Year')\n",
      "plt.ylabel('MMR')\n",
      "plt.title('MMR by Insurance in SSA Hospitals')\n",
      "\n",
      "handles, labels = ax.get_legend_handles_labels()\n",
      "lgd = ax.legend(handles, labels, loc='upper center', bbox_to_anchor=(0.5,-0.1))\n",
      "ax.grid('on')\n",
      "fig1.savefig('samplefigure', bbox_extra_artists=(lgd,), bbox_inches='tight')\n",
      "plt.show()\n"
     ],
     "language": "python",
     "metadata": {},
     "outputs": []
    },
    {
     "cell_type": "code",
     "collapsed": false,
     "input": [
      "ax = iins.unstack()['births'].plot()\n",
      "xlabel('Year')\n",
      "plt.ylabel('Births')\n",
      "plt.title('Births by Insurance in SSA Hospitals')\n",
      "\n",
      "handles, labels = ax.get_legend_handles_labels()\n",
      "lgd = ax.legend(handles, labels, loc='upper center', bbox_to_anchor=(0.5,-0.1))\n",
      "ax.grid('on')\n",
      "fig1.savefig('samplefigure', bbox_extra_artists=(lgd,), bbox_inches='tight')\n",
      "plt.show()"
     ],
     "language": "python",
     "metadata": {},
     "outputs": []
    },
    {
     "cell_type": "code",
     "collapsed": false,
     "input": [
      "import matplotlib.pyplot as plt\n",
      "some_ins = ins[(ins['insurance_name'] == 'SE IGNORA') | (ins['insurance_name'] == 'NINGUNA') | (ins['insurance_name'] == 'SEGURO POPULAR') | (ins['insurance_name'] == 'GRATUIDAD')]\n",
      "iins = some_ins[some_ins['year'] == '2012'].set_index('insurance_name')['births']\n",
      "fig, ax = plt.subplots(figsize=[10, 10])\n",
      "ax.pie(iins, labels=[\"{0}\".format(l1) for l1 in iins.index], autopct='%1.1f%%', labeldistance=1.05)\n",
      "ax.set_title('Distribution of Births by Insurance in 2012 SSA Hospitals')"
     ],
     "language": "python",
     "metadata": {},
     "outputs": []
    },
    {
     "cell_type": "code",
     "collapsed": false,
     "input": [
      "iins = some_ins[some_ins['year'] == '2012'].set_index('insurance_name')['deaths']\n",
      "fig, ax = plt.subplots(figsize=[10, 10])\n",
      "ax.pie(iins, labels=[\"{0}\".format(l1) for l1 in iins.index], autopct='%1.1f%%', labeldistance=1.05)\n",
      "ax.set_title('Distribution of Deaths by Insurance in 2012 SSA Hospitals')"
     ],
     "language": "python",
     "metadata": {},
     "outputs": []
    },
    {
     "cell_type": "code",
     "collapsed": false,
     "input": [
      "b = ins.groupby('year')['births'].sum()\n",
      "d = ins.groupby('year')['deaths'].sum()\n",
      "mmr = (d * 100000.0)/b\n",
      "ax = mmr.plot()\n",
      "plt.xlabel('Year')\n",
      "plt.ylabel('MMR')\n",
      "plt.title('MMR by year in SSA Hospitals')"
     ],
     "language": "python",
     "metadata": {},
     "outputs": []
    },
    {
     "cell_type": "code",
     "collapsed": false,
     "input": [
      "print births.head()\n",
      "print mm_data.head()"
     ],
     "language": "python",
     "metadata": {},
     "outputs": []
    },
    {
     "cell_type": "code",
     "collapsed": false,
     "input": [
      "d_all = mm_data.groupby('year')['mm_count'].sum()\n",
      "b_all = births.groupby('year')['births'].sum()\n",
      "b_sa = b.reset_index()\n",
      "d_sa = d.reset_index()\n",
      "d_all = d_all.reset_index()\n",
      "b_all = b_all.reset_index()\n",
      "print b_sa\n",
      "print b_all"
     ],
     "language": "python",
     "metadata": {},
     "outputs": []
    },
    {
     "cell_type": "code",
     "collapsed": false,
     "input": [
      "b_sa['year'] = b_sa['year'].astype(int)\n",
      "b_all['year'] = b_all['year'].astype(int)\n",
      "\n",
      "saeh_share = merge(b_sa,b_all,on = 'year')\n",
      "saeh_share['SAEH'] = (saeh_share['births_x']*100)/saeh_share['births_y']\n",
      "saeh_share.columns = ['Year','SSA_Births','All_Births','SSA_Farction']\n",
      "saeh_share"
     ],
     "language": "python",
     "metadata": {},
     "outputs": []
    },
    {
     "cell_type": "code",
     "collapsed": false,
     "input": [
      "saeh_share.set_index('Year')[['All_Births','SSA_Births']].plot(kind = 'bar')\n",
      "plt.ylabel('Births')\n",
      "plt.title('SSA Data')"
     ],
     "language": "python",
     "metadata": {},
     "outputs": []
    },
    {
     "cell_type": "code",
     "collapsed": false,
     "input": [
      "d_sa['year'] = d_sa['year'].astype(int)\n",
      "d_all['year'] = d_all['year'].astype(int)\n",
      "\n",
      "print d_sa\n",
      "print d_all"
     ],
     "language": "python",
     "metadata": {},
     "outputs": []
    },
    {
     "cell_type": "code",
     "collapsed": false,
     "input": [
      "saeh_share = merge(d_sa,d_all,on = 'year')\n",
      "saeh_share['SAEH'] = (saeh_share['deaths']*100)/saeh_share['mm_count']\n",
      "saeh_share.columns = ['Year','SSA_Deaths','All_Deaths','SSA_Farction']\n",
      "saeh_share"
     ],
     "language": "python",
     "metadata": {},
     "outputs": []
    },
    {
     "cell_type": "code",
     "collapsed": false,
     "input": [
      "saeh_share.set_index('Year')[['All_Deaths','SSA_Deaths']].plot(kind = 'bar')\n",
      "plt.ylabel('Deaths')\n",
      "plt.title('SSA Data')"
     ],
     "language": "python",
     "metadata": {},
     "outputs": []
    },
    {
     "cell_type": "markdown",
     "metadata": {},
     "source": [
      "# Insurance in health sector hospitals: (IMSS,ISSSTE,...)"
     ]
    },
    {
     "cell_type": "code",
     "collapsed": false,
     "input": [
      "query = \"select sum(dead) as deaths,count(*) as attendance,year,insurance from layla.sector_maternal_09_12 as dis \\\n",
      "where dead = 1 or abortion = 1 or delivery = 1 \\\n",
      "group by year,insurance\"\n",
      "\n",
      "sector_ins = read_sql( query, con)\n",
      "sector_ins.head()"
     ],
     "language": "python",
     "metadata": {},
     "outputs": []
    },
    {
     "cell_type": "code",
     "collapsed": false,
     "input": [
      "query = \"select count(*) as births, coalesce(lug.\\\"DESCRIP\\\",'None') as birth_place, bi.table_year as year from public.births_data as bi \\\n",
      "    left join births_13.\\\"CatLugarNac\\\" as lug on bi.place_of_birth = lug.\\\"IDLUGARNAC\\\"::int \\\n",
      "    group by bi.table_year,lug.\\\"DESCRIP\\\" order by bi.table_year\"\n",
      "\n",
      "births_place = read_sql( query, con)\n",
      "print births_place.head()\n",
      "births_place.groupby('year')['births'].sum()"
     ],
     "language": "python",
     "metadata": {},
     "outputs": []
    },
    {
     "cell_type": "code",
     "collapsed": false,
     "input": [
      "births_place.ix[births_place['birth_place'] == 'UNIDAD M\u00c9DICA PRIVADA','birth_place'] = 'UNIDAD MEDICA PRIVADA'\n",
      "births_place.ix[births_place['birth_place'] == 'V\u00cdA P\u00daBLICA','birth_place'] = 'VIA PUBLICA'\n",
      "births_place.ix[births_place['birth_place'] == 'SECRETAR\u00cdA DE SALUD','birth_place'] = 'SECRETARIA DE SALUD'\n",
      "births_place.ix[births_place['birth_place'] == 'OTRA UNIDAD P\u00daBLICA','birth_place'] = 'OTRA UNIDAD PUBLICA'\n"
     ],
     "language": "python",
     "metadata": {},
     "outputs": []
    },
    {
     "cell_type": "code",
     "collapsed": false,
     "input": [
      "ibpg = births_place[(births_place['birth_place'] == 'PEMEX') | (births_place['birth_place'] == 'IMSS') | (births_place['birth_place'] == 'ISSSTE') | (births_place['birth_place'] == 'IMSS OPORTUNIDADES')  | (births_place['birth_place'] == 'SEMAR')].groupby('year')['births'].sum()\n",
      "ibp = births_place.groupby('year')['births'].sum()\n",
      "ibp_bdss = merge(ibpg.reset_index(),ibp.reset_index(),on= 'year')\n",
      "ibp_bdss.columns = ['Year','Sectorial_Births','All_Births']\n",
      "ibp_bdss"
     ],
     "language": "python",
     "metadata": {},
     "outputs": []
    },
    {
     "cell_type": "code",
     "collapsed": false,
     "input": [
      "ibp_bdss.set_index('Year')[['All_Births','Sectorial_Births']].plot(kind = 'bar')\n",
      "plt.ylabel('Births')\n",
      "plt.title('Births Data')"
     ],
     "language": "python",
     "metadata": {},
     "outputs": []
    },
    {
     "cell_type": "code",
     "collapsed": false,
     "input": [
      "d_all = mm_data.groupby('year')['mm_count'].sum()\n",
      "b_all = births.groupby('year')['births'].sum()\n",
      "b_bdss = ibp_bdss[['Year','Sectorial_Births']]\n",
      "b_bdss.columns = ['year','births']\n",
      "d_bdss = sector_ins.groupby('year')['deaths'].sum().reset_index()\n",
      "d_bdss.columns = ['year','deaths']\n",
      "d_all = d_all.reset_index()\n",
      "b_all = b_all.reset_index()\n",
      "print d_bdss['year'].dtype\n",
      "print d_all['year'].dtype"
     ],
     "language": "python",
     "metadata": {},
     "outputs": []
    },
    {
     "cell_type": "code",
     "collapsed": false,
     "input": [
      "bdss_share = merge(d_bdss,d_all,on = 'year')\n",
      "bdss_share['BDSS'] = (bdss_share['deaths']*100)/bdss_share['mm_count']\n",
      "bdss_share.columns = ['Year','Sectorial_Deaths','All_Deaths','Sectorial_Farction']\n",
      "bdss_share"
     ],
     "language": "python",
     "metadata": {},
     "outputs": []
    },
    {
     "cell_type": "code",
     "collapsed": false,
     "input": [
      "bdss_share.set_index('Year')[['All_Deaths','Sectorial_Deaths']].plot(kind = 'bar')\n",
      "plt.ylabel('Deaths')\n",
      "plt.title('Maternal Death in Sectorial Hospital Data')"
     ],
     "language": "python",
     "metadata": {},
     "outputs": []
    },
    {
     "cell_type": "code",
     "collapsed": false,
     "input": [
      "ins_bdss = sector_ins.set_index(['year','insurance'])['deaths'].unstack()\n",
      "ax = ins_bdss.plot(kind = 'bar', stacked = True)\n",
      "ax.set_title('Maternal Death in Health Sector Institution (BDSS DB)')\n",
      "ax.set_xlabel('Year')\n",
      "ax.set_ylabel('Death')\n",
      "handles, labels = ax.get_legend_handles_labels()\n",
      "lgd = ax.legend(handles, labels, loc='upper center', bbox_to_anchor=(0.5,-0.2))"
     ],
     "language": "python",
     "metadata": {},
     "outputs": []
    },
    {
     "cell_type": "code",
     "collapsed": false,
     "input": [
      "ins_o_bdss = sector_ins.set_index(['year','insurance'])['attendance'].unstack()\n",
      "ax = ins_o_bdss.plot(kind = 'bar', stacked = True, legend = False)\n",
      "ax.set_title('Obstetric Attendance in Health Sector Institution (BDSS DB)')\n",
      "ax.set_xlabel('Year')\n",
      "ax.set_ylabel('Obstetric Attendance')\n",
      "handles, labels = ax.get_legend_handles_labels()\n",
      "lgd = ax.legend(handles, labels, loc='upper center', bbox_to_anchor=(0.5,-0.2))"
     ],
     "language": "python",
     "metadata": {},
     "outputs": []
    },
    {
     "cell_type": "code",
     "collapsed": false,
     "input": [
      "sector_ins['death_rate'] = (sector_ins['deaths']*100000.0)/sector_ins['attendance']\n",
      "sector_ins.head()"
     ],
     "language": "python",
     "metadata": {},
     "outputs": []
    },
    {
     "cell_type": "code",
     "collapsed": false,
     "input": [
      "ins_death_rate_bdss = sector_ins.set_index(['year','insurance'])['death_rate'].unstack()\n",
      "ax = ins_death_rate_bdss.plot(kind = 'bar', stacked = False, legend = False)\n",
      "ax.set_title('Death Rate in Health Sector Institution (BDSS DB)')\n",
      "ax.set_xlabel('Year')\n",
      "ax.set_ylabel('Death rate (per 100000)')\n",
      "handles, labels = ax.get_legend_handles_labels()\n",
      "lgd = ax.legend(handles, labels, loc='upper center', bbox_to_anchor=(0.5,-0.2))"
     ],
     "language": "python",
     "metadata": {},
     "outputs": []
    },
    {
     "cell_type": "markdown",
     "metadata": {},
     "source": [
      "# Checking Insurance vs Delivery Type in Hospital Data\n",
      "### Health Sector Hospitals\n"
     ]
    },
    {
     "cell_type": "code",
     "collapsed": false,
     "input": [
      "query = \"select sum(dead) as deaths,count(*) as attendance,year,insurance,delivery_type,(sum(dead)*100000.0)/count(*) as death_rate from layla.sector_maternal_09_12 as dis \\\n",
      "where dead = 1 or abortion = 1 or delivery = 1 \\\n",
      "group by year,insurance,delivery_type\"\n",
      "\n",
      "sector_ins_delivery = read_sql( query, con)\n",
      "sector_ins_delivery.head()"
     ],
     "language": "python",
     "metadata": {},
     "outputs": []
    },
    {
     "cell_type": "code",
     "collapsed": false,
     "input": [
      "ins_death_rate_deli_bdss = sector_ins_delivery[(sector_ins_delivery['insurance'] == 'Secretar\u00eda de Salud') | (sector_ins_delivery['insurance'] == 'IMSS')].set_index(['year','delivery_type','insurance'])['death_rate'].unstack()\n",
      "ax = ins_death_rate_deli_bdss.plot(kind = 'bar', stacked = False, legend = False)\n",
      "ax.set_title('Death Rate in Health Sector Institution (BDSS DB)')\n",
      "ax.set_xlabel('Year')\n",
      "ax.set_ylabel('Death rate (per 100000)')\n",
      "handles, labels = ax.get_legend_handles_labels()\n",
      "lgd = ax.legend(handles, labels, loc='upper center', bbox_to_anchor=(0.5,-0.5))"
     ],
     "language": "python",
     "metadata": {},
     "outputs": []
    }
   ],
   "metadata": {}
  }
 ]
}