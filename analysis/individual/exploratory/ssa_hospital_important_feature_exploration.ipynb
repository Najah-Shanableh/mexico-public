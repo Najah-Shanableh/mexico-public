{
 "metadata": {
  "name": "",
  "signature": "sha256:b3f96aca6808ce58f05d74295d154a0e01377c99ce5d03a888fc3dabe0b139a5"
 },
 "nbformat": 3,
 "nbformat_minor": 0,
 "worksheets": [
  {
   "cells": [
    {
     "cell_type": "markdown",
     "metadata": {},
     "source": [
      "#Exploring important features in hospital discharge data\n",
      "In this file, I investigate some of the important features learned by modeling\n",
      "##Data: \n",
      "Discharge data from Secretaria de Salud (SSA) Hospitals"
     ]
    },
    {
     "cell_type": "code",
     "collapsed": false,
     "input": [
      "from pandas import *\n",
      "import psycopg2\n",
      "con = psycopg2.connect(host=\"\",database='mexico',user='',password='')\n"
     ],
     "language": "python",
     "metadata": {},
     "outputs": []
    },
    {
     "cell_type": "code",
     "collapsed": false,
     "input": [
      "query  = \"select sum(dead) as deaths, sum(actual_births) as births, (sum(dead)*100000.0)/sum(actual_births) as MMR, case when age_at_discharge = 999 then 0 else age_at_discharge end as age from layla.saeh_model_10_13 group by age_at_discharge\"\n",
      "df_age = read_sql(query, con)\n",
      "df_age.head()"
     ],
     "language": "python",
     "metadata": {},
     "outputs": []
    },
    {
     "cell_type": "code",
     "collapsed": false,
     "input": [
      "df_age = df_age[df_age['age'] > 0]\n",
      "index_size = ((df_age['age'].max()-df_age['age'].min())/5)\n",
      "age_grouped = DataFrame(index=[arange(0,index_size,1)],columns=['age_group','births','deaths','mmr'])\n",
      "\n",
      "i = 0\n",
      "\n",
      "\n",
      "for base in arange(df_age['age'].min(),df_age['age'].max(),5):\n",
      "    age_grouped['age_group'][i] = str(base)+'-'+str(base+4)\n",
      "    age_grouped['births'][i] = df_age[(df_age['age'] >= base) & (df_age['age'] < base+5)]['births'].sum()\n",
      "    age_grouped['deaths'][i] = df_age[(df_age['age'] >= base) & (df_age['age'] < base+5)]['deaths'].sum()\n",
      "    age_grouped['mmr'][i] = (age_grouped['deaths'][i]*100000.0)/age_grouped['births'][i]\n",
      "    i = i + 1\n",
      "age_grouped"
     ],
     "language": "python",
     "metadata": {},
     "outputs": []
    },
    {
     "cell_type": "code",
     "collapsed": false,
     "input": [
      "fig, ax1 = plt.subplots()\n",
      "ticks = np.arange(len(age_grouped['mmr']))+0.5\n",
      "rects1 = ax1.bar(ticks,age_grouped['mmr'],0.3,color='blue')\n",
      "ax1.set_xlabel('Age Group')\n",
      "ax1.set_xticklabels(age_grouped['age_group'])\n",
      "ax1.set_xticks(ticks+0.3)\n",
      "for tl in ax1.get_yticklabels():\n",
      "    tl.set_color('b')\n",
      "ax2 = ax1.twinx()\n",
      "rects2 = ax2.bar(ticks+0.3,age_grouped['deaths'],0.3,color='red')\n",
      "for tl in ax2.get_yticklabels():\n",
      "    tl.set_color('r')\n",
      "ax2.legend( (rects1[0], rects2[0]), ('MMR', 'Deaths') , loc='upper left')\n"
     ],
     "language": "python",
     "metadata": {},
     "outputs": []
    },
    {
     "cell_type": "code",
     "collapsed": false,
     "input": [
      "query  = \"select sum(dead) as deaths, sum(actual_births) as births, (sum(dead)*100000.0)/sum(actual_births) as MMR, coalesce(birth_type,'8') as delivery_type from layla.saeh_model_10_13 group by delivery_type\"\n",
      "df_b_type = read_sql(query, con)\n",
      "df_b_type.head()"
     ],
     "language": "python",
     "metadata": {},
     "outputs": []
    },
    {
     "cell_type": "code",
     "collapsed": false,
     "input": [
      "ax = df_b_type[df_b_type['delivery_type'] != '8'].set_index('delivery_type')[['deaths']].plot(kind = 'bar',color='red')\n",
      "ax.set_xlabel('Delivery Type')\n",
      "ax.set_xticklabels(['C-Section','Not Specified','Natural','Assisted'])"
     ],
     "language": "python",
     "metadata": {},
     "outputs": []
    },
    {
     "cell_type": "code",
     "collapsed": false,
     "input": [
      "df_b_type = df_b_type[(df_b_type['delivery_type']!='9') & (df_b_type['delivery_type']!='8')]\n",
      "fig, ax1 = plt.subplots()\n",
      "ticks = np.arange(len(df_b_type['mmr']))+0.5\n",
      "rects1 = ax1.bar(ticks,df_b_type['mmr'],0.3,color='blue')\n",
      "ax1.set_xlabel('Delivery Type')\n",
      "ax1.set_xticklabels(['C-Section','Natural','Assisted'])\n",
      "ax1.set_xticks(ticks+0.3)\n",
      "for tl in ax1.get_yticklabels():\n",
      "    tl.set_color('b')\n",
      "ax2 = ax1.twinx()\n",
      "rects2 = ax2.bar(ticks+0.3,df_b_type['deaths'],0.3,color='red')\n",
      "for tl in ax2.get_yticklabels():\n",
      "    tl.set_color('r')\n",
      "ax2.legend( (rects1[0], rects2[0]), ('MMR', 'Deaths') , loc='upper center')\n"
     ],
     "language": "python",
     "metadata": {},
     "outputs": []
    },
    {
     "cell_type": "code",
     "collapsed": false,
     "input": [
      "query  = \"select sum(dead) as deaths, sum(actual_births) as births, case when sum(actual_births)>0 then (sum(dead)*100000.0)/sum(actual_births) else null end as MMR, coalesce(family_plan_type,'9') as family_plan from layla.saeh_model_10_13 group by family_plan order by family_plan\"\n",
      "df_f_type = read_sql(query, con)\n",
      "df_f_type"
     ],
     "language": "python",
     "metadata": {},
     "outputs": []
    },
    {
     "cell_type": "markdown",
     "metadata": {},
     "source": [
      "\"1\";\"INSERCI\u00d3N DIU\"\n",
      "\"2\";\"SOLO HORMONAL\"\n",
      "\"3\";\"OCLUSI\u00d3N TUBARIA\"\n",
      "\"4\";\"NO HAY PLANIFICACI\u00d3N\"\n",
      "\"5\";\"OTRO\"\n",
      "\"6\";\"IMPLANTE SUBD\u00c9RMICO\""
     ]
    },
    {
     "cell_type": "code",
     "collapsed": false,
     "input": [
      "df_f_type = df_f_type[df_f_type['family_plan']!='9']\n",
      "fig, ax1 = plt.subplots()\n",
      "ticks = np.arange(len(df_f_type['mmr']))+0.5\n",
      "rects1 = ax1.bar(ticks,df_f_type['mmr'],0.3,color='blue')\n",
      "ax1.set_xlabel('Family Planning Type')\n",
      "ax1.set_xticklabels(['IUD','Pills' , 'Tubal' , 'No Planning', 'Implant'])\n",
      "ax1.set_xticks(ticks+0.3)\n",
      "for tl in ax1.get_yticklabels():\n",
      "    tl.set_color('b')\n",
      "ax2 = ax1.twinx()\n",
      "rects2 = ax2.bar(ticks+0.3,df_f_type['deaths'],0.3,color='red')\n",
      "for tl in ax2.get_yticklabels():\n",
      "    tl.set_color('r')\n",
      "ax2.legend( (rects1[0], rects2[0]), ('MMR', 'Deaths') , loc='upper center')"
     ],
     "language": "python",
     "metadata": {},
     "outputs": []
    },
    {
     "cell_type": "code",
     "collapsed": false,
     "input": [
      "query  = \"select sum(dead) as deaths, sum(actual_births) as births, case when sum(actual_births)>0 then (sum(dead)*100000.0)/sum(actual_births) else null end as MMR, coalesce(clue_type,'NE') as clue from layla.saeh_model_10_13 group by clue order by clue\"\n",
      "df_clue_type = read_sql(query, con)\n",
      "df_clue_type"
     ],
     "language": "python",
     "metadata": {},
     "outputs": []
    },
    {
     "cell_type": "markdown",
     "metadata": {},
     "source": [
      "C: Rural de 03 n\u00facleos b\u00e1sicos y m\u00e1s\n",
      "\n",
      "J: Urbano de 07 n\u00facleos b\u00e1sicos\n",
      "\n",
      "M: Hospital general\n",
      "\n",
      "N: Hospital integral (Comunitario)\n",
      "\n",
      "NE: Not specified\n",
      "\n",
      "O: Hospital especializado\n",
      "\n",
      "U: Consultorio delegacional\n",
      "\n",
      "Z: Centro de salud con hospitalizaci\u00f3n"
     ]
    },
    {
     "cell_type": "code",
     "collapsed": false,
     "input": [
      "fig, ax1 = plt.subplots()\n",
      "ticks = np.arange(len(df_clue_type['mmr']))+0.5\n",
      "rects1 = ax1.bar(ticks,df_clue_type['mmr'],0.3,color='blue')\n",
      "ax1.set_xlabel('Clue Type')\n",
      "ax1.set_xticklabels(['Rural 03 basic units','Urban 07 basic units','General','Comprehensive(Community)' ,'Not Specified', 'Specialized Hospitals', 'Consulting', 'Health Center to stay'],rotation='vertical')\n",
      "ax1.set_xticks(ticks+0.3)\n",
      "for tl in ax1.get_yticklabels():\n",
      "    tl.set_color('b')\n",
      "ax2 = ax1.twinx()\n",
      "rects2 = ax2.bar(ticks+0.3,df_clue_type['deaths'],0.3,color='red')\n",
      "for tl in ax2.get_yticklabels():\n",
      "    tl.set_color('r')\n",
      "ax2.legend( (rects1[0], rects2[0]), ('MMR', 'Deaths') , loc='upper left')\n"
     ],
     "language": "python",
     "metadata": {},
     "outputs": []
    },
    {
     "cell_type": "code",
     "collapsed": false,
     "input": [
      "query  = \"select sum(dead) as deaths, sum(actual_births) as births, case when sum(actual_births)>0 then (sum(dead)*100000.0)/sum(actual_births) else null end as MMR, coalesce(single_multiple_fetus,'9') as fetus from layla.saeh_model_10_13 group by fetus order by fetus\"\n",
      "df_fetus_type = read_sql(query, con)\n",
      "df_fetus_type.head()"
     ],
     "language": "python",
     "metadata": {},
     "outputs": []
    },
    {
     "cell_type": "code",
     "collapsed": false,
     "input": [
      "ax = df_fetus_type.dropna().set_index('fetus')[['mmr']].plot(kind = 'bar')\n",
      "ax.set_xlabel('Fetus count')\n",
      "ax.set_xticklabels(['Single','Multiple'])"
     ],
     "language": "python",
     "metadata": {},
     "outputs": []
    },
    {
     "cell_type": "code",
     "collapsed": false,
     "input": [
      "query  = \"select sum(dead) as deaths, sum(actual_births) as births, case when sum(actual_births)>0 then (sum(dead)*100000.0)/sum(actual_births) else null end as MMR, coalesce(second_condition,'NE') as scond from saeh_maternal_10_13 group by scond order by scond\"\n",
      "df_scond = read_sql(query, con)\n",
      "df_scond.head()"
     ],
     "language": "python",
     "metadata": {},
     "outputs": []
    },
    {
     "cell_type": "code",
     "collapsed": false,
     "input": [
      "ax = df_scond.set_index('scond')[['mmr']].plot(kind = 'bar')\n",
      "ax.set_xlabel('Second Condition (2010)')\n",
      "ax.set_xticklabels(['False','Not Specidied','True'])"
     ],
     "language": "python",
     "metadata": {},
     "outputs": []
    },
    {
     "cell_type": "code",
     "collapsed": false,
     "input": [
      "query  = \"select sum(dead) as deaths, sum(actual_births) as births, case when sum(actual_births)>0 then (sum(dead)*100000.0)/sum(actual_births) else null end as MMR, coalesce(infection,'NE') as inf from saeh_maternal_10_13 group by inf order by inf\"\n",
      "df_infection = read_sql(query, con)\n",
      "df_infection"
     ],
     "language": "python",
     "metadata": {},
     "outputs": []
    },
    {
     "cell_type": "code",
     "collapsed": false,
     "input": [
      "fig, ax1 = plt.subplots()\n",
      "ticks = np.arange(len(df_infection['mmr']))+0.5\n",
      "rects1 = ax1.bar(ticks,df_infection['mmr'],0.3,color='blue')\n",
      "ax1.set_xticklabels(['True','False'])\n",
      "ax1.set_xticks(ticks+0.3)\n",
      "ax1.set_xlabel('Infection')\n",
      "\n",
      "for tl in ax1.get_yticklabels():\n",
      "    tl.set_color('b')\n",
      "ax2 = ax1.twinx()\n",
      "rects2 = ax2.bar(ticks+0.3,df_infection['deaths'],0.3,color='red')\n",
      "for tl in ax2.get_yticklabels():\n",
      "    tl.set_color('r')\n",
      "ax2.legend( (rects1[0], rects2[0]), ('MMR', 'Deaths') , loc='upper center')\n",
      "\n"
     ],
     "language": "python",
     "metadata": {},
     "outputs": []
    },
    {
     "cell_type": "code",
     "collapsed": false,
     "input": [
      "query  = \"select sum(dead) as deaths, sum(actual_births) as births, case when sum(actual_births)>0 then (sum(dead)*100000.0)/sum(actual_births) else null end as MMR, coalesce(entrance_origin,'NE') as origin from saeh_maternal_10_13 group by origin order by origin\"\n",
      "df_origin = read_sql(query, con)\n",
      "df_origin"
     ],
     "language": "python",
     "metadata": {},
     "outputs": []
    },
    {
     "cell_type": "markdown",
     "metadata": {},
     "source": [
      "3:Referral\n",
      "\n",
      "9:NE\n",
      "\n",
      "1:External Consult\n",
      "\n",
      "2:Emergency\n",
      "\n",
      "4:Other"
     ]
    },
    {
     "cell_type": "code",
     "collapsed": false,
     "input": [
      "ax = df_origin.set_index('origin')[['mmr']].plot(kind = 'bar')\n",
      "ax.set_xlabel('Hospitalization Origin')\n",
      "ax.set_xticklabels(['External Consult','Emergency','Referral','Other','NE'])\n"
     ],
     "language": "python",
     "metadata": {},
     "outputs": []
    },
    {
     "cell_type": "code",
     "collapsed": false,
     "input": [
      "query  = \"select sum(dead) as deaths, sum(actual_births) as births, case when sum(actual_births)>0 then (sum(dead)*100000.0)/sum(actual_births) else null end as MMR, case when pregnancy_bk_no = 99 then -1 else case when  pregnancy_bk_no > 4 then 4 else coalesce(pregnancy_bk_no,-1) end end as preg from saeh_maternal_10_13 group by preg order by preg\"\n",
      "df_preg = read_sql(query, con)\n",
      "df_preg"
     ],
     "language": "python",
     "metadata": {},
     "outputs": []
    },
    {
     "cell_type": "code",
     "collapsed": false,
     "input": [
      "df_preg = df_preg[(df_preg['preg'] > -1)].dropna()\n",
      "fig, ax1 = plt.subplots()\n",
      "ticks = np.arange(len(df_preg['mmr']))+0.5\n",
      "rects1 = ax1.bar(ticks,df_preg['mmr'],0.3,color='blue')\n",
      "ax1.set_xticklabels(['1','2','3','4 and more'])\n",
      "ax1.set_xticks(ticks+0.3)\n",
      "ax1.set_xlabel('Number of Pregnancies')\n",
      "\n",
      "for tl in ax1.get_yticklabels():\n",
      "    tl.set_color('b')\n",
      "ax2 = ax1.twinx()\n",
      "rects2 = ax2.bar(ticks+0.3,df_preg['deaths'],0.3,color='red')\n",
      "for tl in ax2.get_yticklabels():\n",
      "    tl.set_color('r')\n",
      "ax2.legend( (rects1[0], rects2[0]), ('MMR', 'Deaths') , loc='upper center')"
     ],
     "language": "python",
     "metadata": {},
     "outputs": []
    },
    {
     "cell_type": "code",
     "collapsed": false,
     "input": [
      "query  = \"select sum(dead) as deaths, sum(actual_births) as births, case when sum(actual_births)>0 then (sum(dead)*100000.0)/sum(actual_births) else null end as MMR, muni_clue, concat(concat(cat_s.\\\"DESCRIP\\\",'_'),substring(muni_clue from 3 for 3)) as c_label from layla.saeh_model_10_13 left join cat_saeh_13.\\\"CATESTADOS\\\" as cat_s on substring(muni_clue from 1 for 2)= cat_s.\\\"EDO\\\" where muni_clue in ('15033','30131','22014','30193','30039','17007','13048','15057','12001','16053') group by muni_clue,c_label order by MMR\"\n",
      "df_c_muni = read_sql(query, con)\n",
      "df_c_muni"
     ],
     "language": "python",
     "metadata": {},
     "outputs": []
    },
    {
     "cell_type": "code",
     "collapsed": false,
     "input": [
      "ax1 = df_c_muni.set_index('c_label')[['deaths']].plot(kind = 'bar',color='r')\n",
      "ax1.set_xlabel('Hospital Municipality')\n",
      "ax1.set_ylabel('Deaths')\n",
      "for tl in ax1.get_yticklabels():\n",
      "    tl.set_color('r')\n",
      "ax2 = ax1.twinx()\n",
      "ax2.plot(df_c_muni.set_index('muni_clue')[['mmr']])\n",
      "ax2.set_ylabel('MMR')\n",
      "ax2.legend([\"MMR\"],loc='upper left')\n",
      "\n",
      "for tl in ax2.get_yticklabels():\n",
      "    tl.set_color('b')"
     ],
     "language": "python",
     "metadata": {},
     "outputs": []
    }
   ],
   "metadata": {}
  }
 ]
}