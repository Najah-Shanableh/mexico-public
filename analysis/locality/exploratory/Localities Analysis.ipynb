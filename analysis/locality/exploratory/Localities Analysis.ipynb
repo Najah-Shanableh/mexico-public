{
 "metadata": {
  "name": "",
  "signature": "sha256:21b1c3729ca95d05d4a3d6bc1525a5b31ee66b5d8bdb107939c11acce3a2ba8c"
 },
 "nbformat": 3,
 "nbformat_minor": 0,
 "worksheets": [
  {
   "cells": [
    {
     "cell_type": "markdown",
     "metadata": {},
     "source": [
      "Very basic look at the percentage of deaths that occur in urban vs. rural areas"
     ]
    },
    {
     "cell_type": "code",
     "collapsed": false,
     "input": [
      "### Imports\n",
      "import os\n",
      "import psycopg2 as dbconnect\n",
      "import pandas as pd\n",
      "import matplotlib.pyplot as plt\n",
      "import numpy as np"
     ],
     "language": "python",
     "metadata": {},
     "outputs": [],
     "prompt_number": 1
    },
    {
     "cell_type": "code",
     "collapsed": false,
     "input": [
      "# Setup other vars\n",
      "export_dir = '/Users/Nicke/desktop/dssg/mexico/working_area'\n",
      "db = dbconnect.connect(host='',\n",
      "                             database='mexico',\n",
      "                             user='',\n",
      "                             password='')"
     ],
     "language": "python",
     "metadata": {},
     "outputs": [],
     "prompt_number": 2
    },
    {
     "cell_type": "code",
     "collapsed": false,
     "input": [
      "# Import Data\n",
      "data = pd.read_sql(\"\"\"\n",
      "SELECT *\n",
      "FROM (\n",
      "SELECT count(*) as maternal_deaths,\n",
      "\tresidence_state as state,\n",
      "\tresidence_state||residence_municipality as municipality,\n",
      "\tresidence_state||residence_municipality||residence_locality as locality,\n",
      "\tdod_year as year\n",
      "FROM maternal_mortality_data\n",
      "GROUP BY state, municipality, locality, year\n",
      ") as table1\n",
      "LEFT JOIN (\n",
      "SELECT cve_loc as locality,\n",
      "\tnom_loc as locality_name,\n",
      "\tnom_mun as municipality_name,\n",
      "\tnom_ent as state_name,\n",
      "\tpob_tot as locality_population,\n",
      "\tcon_ubic as urbanicity,\n",
      "\tCASE WHEN con_ubic = 0 THEN 'urban'\n",
      "\t\tWHEN con_ubic IN(1,2,3,4) THEN 'rural'\n",
      "\t\tELSE 'unknown'\n",
      "\tEND as urban_rural,\n",
      "\tIM_2010 as margination_index,\n",
      "\tGM_2010 as margination_degree\n",
      "FROM localities\n",
      ") as table2\n",
      "USING (locality)\n",
      "\"\"\", db)"
     ],
     "language": "python",
     "metadata": {},
     "outputs": [],
     "prompt_number": 3
    },
    {
     "cell_type": "code",
     "collapsed": false,
     "input": [
      "data = data[(data.year>=2002) & (data.year<=2012)]"
     ],
     "language": "python",
     "metadata": {},
     "outputs": [],
     "prompt_number": 4
    },
    {
     "cell_type": "code",
     "collapsed": false,
     "input": [
      "### Percentage of deaths that occur in urban vs. rural areas\n",
      "ur_data = data[data.year >= 2008].groupby('urban_rural').aggregate({'maternal_deaths': sum})\n",
      "ur_data['death_pct'] = ur_data.maternal_deaths / ur_data.maternal_deaths.sum() * 100\n",
      "ur_data['death_pct'].plot(kind='pie', autopct='%1.1f%%')\n",
      "plt.title('Deaths by Rural/Urban areas')\n",
      "plt.xlabel('')\n",
      "plt.ylabel('Percent of Maternal Deaths')"
     ],
     "language": "python",
     "metadata": {},
     "outputs": [
      {
       "metadata": {},
       "output_type": "pyout",
       "prompt_number": 12,
       "text": [
        "<matplotlib.text.Text at 0x107dda690>"
       ]
      },
      {
       "metadata": {},
       "output_type": "display_data",
       "png": "[encoded data removed]",
       "text": [
        "<matplotlib.figure.Figure at 0x107c79ed0>"
       ]
      }
     ],
     "prompt_number": 12
    }
   ],
   "metadata": {}
  }
 ]
}